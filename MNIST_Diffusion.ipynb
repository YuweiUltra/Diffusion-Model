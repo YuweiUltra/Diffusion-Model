{
 "cells": [
  {
   "cell_type": "markdown",
   "id": "2905c52e",
   "metadata": {},
   "source": [
    "# CMSC 25025 / STAT 37601\n",
    "## Final project: Diffusion Models\n",
    "Writer: Yuwei Yan\\\n",
    "Email: yuweiyan@uchicago.edu\\\n",
    "Last update: May 2024\\\n",
    "\n",
    "This wrok is based on the paper <a href=\"https://arxiv.org/abs/2006.11239\">Denoising Diffusion Probabilistic Models</a> by Jonathan Ho, Ajay Jain and Pieter Abbeel, NIPS (2020) with course materials in the class\\\n",
    "\n",
    "Some useful websites to refer to:\\\n",
    "https://lilianweng.github.io/posts/2021-07-11-diffusion-models/ \\\n",
    "\n",
    "Some Github links:\\\n",
    "https://github.com/lucidrains/denoising-diffusion-pytorch/tree/main\\\n",
    "https://github.com/dome272/Diffusion-Models-pytorch/tree/main \\\n",
    "https://github.com/TeaPearce/Conditional_Diffusion_MNIST/blob/main/script.py \\\n"
   ]
  },
  {
   "cell_type": "markdown",
   "id": "d7d0f0d2",
   "metadata": {},
   "source": [
    "## Imports"
   ]
  },
  {
   "cell_type": "code",
   "execution_count": 2,
   "id": "903dfd59",
   "metadata": {
    "execution": {
     "iopub.execute_input": "2024-05-21T15:29:48.299264Z",
     "iopub.status.busy": "2024-05-21T15:29:48.298197Z",
     "iopub.status.idle": "2024-05-21T15:29:48.323548Z",
     "shell.execute_reply": "2024-05-21T15:29:48.322541Z",
     "shell.execute_reply.started": "2024-05-21T15:29:48.299232Z"
    }
   },
   "outputs": [],
   "source": [
    "import numpy as np\n",
    "import pandas as pd\n",
    "import torch\n",
    "import torch.nn as nn\n",
    "import torch.optim as optim\n",
    "from torch.utils.data import DataLoader, random_split,TensorDataset\n",
    "from torch.utils.tensorboard import SummaryWriter\n",
    "from torchvision import datasets, transforms\n",
    "import matplotlib.pyplot as plt\n",
    "%matplotlib inline\n",
    "from tqdm.notebook import trange, tqdm\n",
    "import random\n",
    "import multiprocessing\n",
    "from functools import lru_cache\n",
    "import os\n",
    "\n",
    "\n",
    "# Check if you're on Google drive or on your own machine.\n",
    "# Get path to your data.\n",
    "if ('google' in str(get_ipython())):\n",
    "    from google.colab import drive\n",
    "    drive.mount('ME')\n",
    "    # predir='/content/ME/My Drive/'\n",
    "    predir = 'ME/My Drive/'\n",
    "elif \"KAGGLE_KERNEL_RUN_TYPE\" in os.environ:\n",
    "    predir = '/kaggle/input/lsda-data/'\n",
    "else:\n",
    "    predir = os.path.join('/Users', 'yuweiyan', 'Google Drive')\n",
    "    if os.path.isdir(os.path.join(predir, 'My Drive')):\n",
    "        predir = os.path.join(predir, 'My Drive/')\n",
    "\n",
    "datadir = predir+'LSDA_data/'\n",
    "device = torch.device(\"cuda:0\" if torch.cuda.is_available() else \"cpu\")\n",
    "\n",
    "# load data\n",
    "@lru_cache(maxsize=128)\n",
    "def load_data():\n",
    "    data = np.float64(np.load(datadir+'mnist/MNIST_data.npy'))\n",
    "    labels = np.float32(np.load(datadir+'mnist/MNIST_labels.npy'))\n",
    "    return data, labels\n",
    "\n",
    "\n",
    "def shuffle_(data, labels, seed=42):\n",
    "    random.seed(seed)\n",
    "    combined = list(zip(data, labels))\n",
    "    random.shuffle(combined)\n",
    "    # Unzip the shuffled list into separate data and labels lists\n",
    "    shuffled_data, shuffled_labels = zip(*combined)\n",
    "    # Convert the tuples back to numpy\n",
    "    shuffled_data = np.array(shuffled_data)\n",
    "    shuffled_labels = np.array(shuffled_labels)\n",
    "    return data, labels\n",
    "\n",
    "\n",
    "def split_data(data, labels, first_size):\n",
    "    data, labels = shuffle_(data, labels)\n",
    "    train_dat = data[0:first_size].reshape((-1, 1, 28, 28))\n",
    "    train_labels = np.int32(labels[0:first_size])\n",
    "    test_dat = data[first_size:].reshape((-1, 1, 28, 28))\n",
    "    test_labels = np.int32(labels[first_size:])\n",
    "    return (train_dat, train_labels), (test_dat, test_labels)\n",
    "\n",
    "\n",
    "def get_mnist(train_size=55000, val_size=5000):\n",
    "    data, labels = load_data()\n",
    "    data = np.float32(data)/255\n",
    "    (train_dat, train_labels), (test_dat, test_labels) = split_data(\n",
    "        data, labels, first_size=train_size)\n",
    "    (val_dat, val_labels), (test_dat, test_labels) = split_data(\n",
    "        test_dat, test_labels, first_size=val_size)\n",
    "\n",
    "    return (train_dat, train_labels), (val_dat, val_labels), (test_dat, test_labels)\n",
    "\n"
   ]
  },
  {
   "cell_type": "markdown",
   "id": "9cbcc01e",
   "metadata": {},
   "source": [
    "## 1.(a) U-Net architecture\n",
    "\n",
    "> The architecture of U-Net is unique in that it consists of a contracting path and an expansive path. The contracting path contains encoder layers that capture contextual information and reduce the spatial resolution of the input, while the expansive path contains decoder layers that decode the encoded data and use the information from the contracting path via skip connections to generate a segmentation map.\n",
    "\n"
   ]
  },
  {
   "cell_type": "markdown",
   "id": "54399ca5",
   "metadata": {
    "execution": {
     "iopub.execute_input": "2024-05-12T12:09:32.727103Z",
     "iopub.status.busy": "2024-05-12T12:09:32.725301Z",
     "iopub.status.idle": "2024-05-12T12:09:32.737989Z",
     "shell.execute_reply": "2024-05-12T12:09:32.736412Z",
     "shell.execute_reply.started": "2024-05-12T12:09:32.727022Z"
    }
   },
   "source": [
    "### Reverse diffusion process:\n",
    "$$X_{t−1} = μ(X_t,t;θ) + σ_tZ_t$$  where $Z_t ∼ N(0,I_d)$ for t = T,...,1 ;  $X_t ∈ R^d$\n",
    "\n",
    "The following code provides a U-Net architecture network $F (x, t; θ)$ that is used to compute $μ(x,t;θ)$.\\\n",
    "The network is composed of two main parts that can be viewed as encoder(contracting path) and decoder(expansive path): \n",
    "\n",
    "\n",
    "- #### Encoder(repeat 1-3 for 4 times):\n",
    "    1. 2d Convolutional layer\n",
    "    2. Add random features, which are randomly created using gaussian forier projection and passed to 2 fully connected layer before being added to the output of the Convolutional layer\n",
    "    3. Normalize by group\n",
    "   \n",
    "- #### Decoder(repeat 4-6 for 4 time):\n",
    "    4. 2d Transpose Convolutional layer: extend and restore image datas\n",
    "    5. Add random features\n",
    "    6. Normalize by group\n",
    "\n",
    "In this network, t is only used in randomly generating the random features using gaussian forier projection. However, this randomness is not absolute.\n",
    "\n",
    "#### Gaussian forier projection\n",
    "The key idea behind Fourier embeddings is to encode the time t or noise level of the diffusion process into a high-dimensional vector representation that can be easily integrated into the neural network architecture of the diffusion model. This encoding is achieved by mapping the scalar time t or noise level value to a higher-dimensional vector using a Fourier feature mapping."
   ]
  },
  {
   "cell_type": "code",
   "execution_count": 3,
   "id": "005bd9dd",
   "metadata": {
    "execution": {
     "iopub.execute_input": "2024-05-21T15:29:51.820310Z",
     "iopub.status.busy": "2024-05-21T15:29:51.819935Z",
     "iopub.status.idle": "2024-05-21T15:29:51.846136Z",
     "shell.execute_reply": "2024-05-21T15:29:51.845048Z",
     "shell.execute_reply.started": "2024-05-21T15:29:51.820282Z"
    }
   },
   "outputs": [],
   "source": [
    "class GaussianFourierProjection(nn.Module):\n",
    "    \"\"\"Gaussian random features for encoding time steps.\"\"\"\n",
    "\n",
    "    def __init__(self, embed_dim, scale=30.):\n",
    "        super().__init__()\n",
    "        # Randomly sample weights during initialization. These weights are fixed\n",
    "        # during optimization and are not trainable.\n",
    "        self.W = nn.Parameter(torch.randn(embed_dim // 2)\n",
    "                              * scale, requires_grad=False)\n",
    "\n",
    "    def forward(self, x):\n",
    "        x_proj = x * self.W * 2 * np.pi\n",
    "        return torch.cat([torch.sin(x_proj), torch.cos(x_proj)], dim=-1)\n",
    "\n",
    "\n",
    "class Dense(nn.Module):\n",
    "    \"\"\"A fully connected layer that reshapes outputs to feature maps.\"\"\"\n",
    "\n",
    "    def __init__(self, input_dim, output_dim):\n",
    "        super().__init__()\n",
    "        self.dense = nn.Linear(input_dim, output_dim)\n",
    "\n",
    "    def forward(self, x):\n",
    "        # expanding the dimensions of the tensor returned by self.dense(x)\n",
    "        return self.dense(x)[..., None, None]\n",
    "\n",
    "\n",
    "class ScoreNet_noise(nn.Module):\n",
    "    \"\"\"A time-dependent score-based model built upon U-Net architecture.\"\"\"\n",
    "\n",
    "    def __init__(self, channels=[32, 64, 128, 256], embed_dim=256, group_num=4):\n",
    "\n",
    "        super().__init__()\n",
    "\n",
    "        self.embed = nn.Sequential(GaussianFourierProjection(embed_dim=embed_dim),\n",
    "                                   nn.Linear(embed_dim, embed_dim))\n",
    "\n",
    "        self.conv1 = nn.Conv2d(1, channels[0], 3, stride=1, bias=False)\n",
    "        self.dense1 = Dense(embed_dim, channels[0])\n",
    "        self.gnorm1 = nn.GroupNorm(group_num, num_channels=channels[0])\n",
    "        self.conv2 = nn.Conv2d(\n",
    "            channels[0], channels[1], 3, stride=2, bias=False)\n",
    "        self.dense2 = Dense(embed_dim, channels[1])\n",
    "        self.gnorm2 = nn.GroupNorm(group_num, num_channels=channels[1])\n",
    "        self.conv3 = nn.Conv2d(\n",
    "            channels[1], channels[2], 3, stride=2, bias=False)\n",
    "        self.dense3 = Dense(embed_dim, channels[2])\n",
    "        self.gnorm3 = nn.GroupNorm(group_num, num_channels=channels[2])\n",
    "        self.conv4 = nn.Conv2d(\n",
    "            channels[2], channels[3], 3, stride=2, bias=False)\n",
    "        self.dense4 = Dense(embed_dim, channels[3])\n",
    "        self.gnorm4 = nn.GroupNorm(group_num, num_channels=channels[3])\n",
    "\n",
    "        self.tconv4 = nn.ConvTranspose2d(\n",
    "            channels[3], channels[2], 3, stride=2, bias=False)\n",
    "        self.dense5 = Dense(embed_dim, channels[2])\n",
    "        self.tgnorm4 = nn.GroupNorm(group_num, num_channels=channels[2])\n",
    "        self.tconv3 = nn.ConvTranspose2d(\n",
    "            channels[2] + channels[2], channels[1], 3, stride=2, bias=False, output_padding=1)\n",
    "        self.dense6 = Dense(embed_dim, channels[1])\n",
    "        self.tgnorm3 = nn.GroupNorm(group_num, num_channels=channels[1])\n",
    "        self.tconv2 = nn.ConvTranspose2d(\n",
    "            channels[1] + channels[1], channels[0], 3, stride=2, bias=False, output_padding=1)\n",
    "        self.dense7 = Dense(embed_dim, channels[0])\n",
    "        self.tgnorm2 = nn.GroupNorm(group_num, num_channels=channels[0])\n",
    "        self.tconv1 = nn.ConvTranspose2d(\n",
    "            channels[0] + channels[0], 1, 3, stride=1)\n",
    "\n",
    "        # The swish activation function\n",
    "        self.act = lambda x: x * torch.sigmoid(x)\n",
    "\n",
    "    def forward(self, x, t):\n",
    "        # Obtain the Gaussian random feature embedding for t\n",
    "        embed = self.act(self.embed(t))\n",
    "\n",
    "        h1 = self.conv1(x)  # ...\n",
    "        h1 += self.dense1(embed)  # ...\n",
    "        h1 = self.gnorm1(h1)  # ...\n",
    "        h1 = self.act(h1)  # ...\n",
    "        h2 = self.conv2(h1)  # ...\n",
    "        h2 += self.dense2(embed)\n",
    "        h2 = self.gnorm2(h2)\n",
    "        h2 = self.act(h2)\n",
    "        h3 = self.conv3(h2)\n",
    "        h3 += self.dense3(embed)\n",
    "        h3 = self.gnorm3(h3)\n",
    "        h3 = self.act(h3)\n",
    "        h4 = self.conv4(h3)\n",
    "        h4 += self.dense4(embed)\n",
    "        h4 = self.gnorm4(h4)\n",
    "        h4 = self.act(h4)\n",
    "\n",
    "        h = self.tconv4(h4)  # ...\n",
    "        h += self.dense5(embed)  # ...\n",
    "        h = self.tgnorm4(h)\n",
    "        h = self.act(h)\n",
    "        h = self.tconv3(torch.cat([h, h3], dim=1))  # ...\n",
    "        h += self.dense6(embed)\n",
    "        h = self.tgnorm3(h)\n",
    "        h = self.act(h)\n",
    "        h = self.tconv2(torch.cat([h, h2], dim=1))\n",
    "        h += self.dense7(embed)\n",
    "        h = self.tgnorm2(h)\n",
    "        h = self.act(h)\n",
    "        h = self.tconv1(torch.cat([h, h1], dim=1))\n",
    "\n",
    "        return h"
   ]
  },
  {
   "cell_type": "markdown",
   "id": "55d15840",
   "metadata": {},
   "source": [
    "## 1.(b) Add scalar parameters ρ0 and ρ1\n",
    "\n",
    "Based on experience we are going to model the actual conditional mean as \n",
    "$$μ(x, t; θ) = ρ_0(x − ρ_1F (x, t; θ))$$\n",
    "$ρ_0$ and $ρ_1$ are scalar parameters that need to be estimated as well."
   ]
  },
  {
   "cell_type": "code",
   "execution_count": 4,
   "id": "4ad3abbf",
   "metadata": {
    "execution": {
     "iopub.execute_input": "2024-05-21T15:30:09.253280Z",
     "iopub.status.busy": "2024-05-21T15:30:09.252871Z",
     "iopub.status.idle": "2024-05-21T15:30:09.274574Z",
     "shell.execute_reply": "2024-05-21T15:30:09.273503Z",
     "shell.execute_reply.started": "2024-05-21T15:30:09.253253Z"
    }
   },
   "outputs": [],
   "source": [
    "# Redefine ScoreNet\n",
    "class ScoreNet_mu(nn.Module):\n",
    "    \"\"\"A time-dependent score-based model built upon U-Net architecture.\"\"\"\n",
    "\n",
    "    def __init__(self, channels=[32, 64, 128, 256], embed_dim=256, group_num=4):\n",
    "\n",
    "        super().__init__()\n",
    "\n",
    "        self.embed = nn.Sequential(GaussianFourierProjection(embed_dim=embed_dim),\n",
    "                                   nn.Linear(embed_dim, embed_dim))\n",
    "\n",
    "        self.conv1 = nn.Conv2d(1, channels[0], 3, stride=1, bias=False)\n",
    "        self.dense1 = Dense(embed_dim, channels[0])\n",
    "        self.gnorm1 = nn.GroupNorm(group_num, num_channels=channels[0])\n",
    "        self.conv2 = nn.Conv2d(\n",
    "            channels[0], channels[1], 3, stride=2, bias=False)\n",
    "        self.dense2 = Dense(embed_dim, channels[1])\n",
    "        self.gnorm2 = nn.GroupNorm(group_num, num_channels=channels[1])\n",
    "        self.conv3 = nn.Conv2d(\n",
    "            channels[1], channels[2], 3, stride=2, bias=False)\n",
    "        self.dense3 = Dense(embed_dim, channels[2])\n",
    "        self.gnorm3 = nn.GroupNorm(group_num, num_channels=channels[2])\n",
    "        self.conv4 = nn.Conv2d(\n",
    "            channels[2], channels[3], 3, stride=2, bias=False)\n",
    "        self.dense4 = Dense(embed_dim, channels[3])\n",
    "        self.gnorm4 = nn.GroupNorm(group_num, num_channels=channels[3])\n",
    "\n",
    "        self.tconv4 = nn.ConvTranspose2d(\n",
    "            channels[3], channels[2], 3, stride=2, bias=False)\n",
    "        self.dense5 = Dense(embed_dim, channels[2])\n",
    "        self.tgnorm4 = nn.GroupNorm(group_num, num_channels=channels[2])\n",
    "        self.tconv3 = nn.ConvTranspose2d(\n",
    "            channels[2] + channels[2], channels[1], 3, stride=2, bias=False, output_padding=1)\n",
    "        self.dense6 = Dense(embed_dim, channels[1])\n",
    "        self.tgnorm3 = nn.GroupNorm(group_num, num_channels=channels[1])\n",
    "        self.tconv2 = nn.ConvTranspose2d(\n",
    "            channels[1] + channels[1], channels[0], 3, stride=2, bias=False, output_padding=1)\n",
    "        self.dense7 = Dense(embed_dim, channels[0])\n",
    "        self.tgnorm2 = nn.GroupNorm(group_num, num_channels=channels[0])\n",
    "        self.tconv1 = nn.ConvTranspose2d(\n",
    "            channels[0] + channels[0], 1, 3, stride=1)\n",
    "\n",
    "        # The swish activation function\n",
    "        self.act = lambda x: x * torch.sigmoid(x)\n",
    "\n",
    "        # Initialize the scalar parameters ρ0 and ρ1\n",
    "        self.rho_0 = nn.Parameter(torch.tensor(1.0))\n",
    "        self.rho_1 = nn.Parameter(torch.tensor(1.0))\n",
    "\n",
    "    def forward(self, x, t):\n",
    "        # Obtain the Gaussian random feature embedding for t\n",
    "        embed = self.act(self.embed(t))\n",
    "\n",
    "        h1 = self.conv1(x)  # ...\n",
    "        h1 += self.dense1(embed)  # ...\n",
    "        h1 = self.gnorm1(h1)  # ...\n",
    "        h1 = self.act(h1)  # ...\n",
    "        h2 = self.conv2(h1)  # ...\n",
    "        h2 += self.dense2(embed)\n",
    "        h2 = self.gnorm2(h2)\n",
    "        h2 = self.act(h2)\n",
    "        h3 = self.conv3(h2)\n",
    "        h3 += self.dense3(embed)\n",
    "        h3 = self.gnorm3(h3)\n",
    "        h3 = self.act(h3)\n",
    "        h4 = self.conv4(h3)\n",
    "        h4 += self.dense4(embed)\n",
    "        h4 = self.gnorm4(h4)\n",
    "        h4 = self.act(h4)\n",
    "\n",
    "        h = self.tconv4(h4)  # ...\n",
    "        h += self.dense5(embed)  # ...\n",
    "        h = self.tgnorm4(h)\n",
    "        h = self.act(h)\n",
    "        h = self.tconv3(torch.cat([h, h3], dim=1))  # ...\n",
    "        h += self.dense6(embed)\n",
    "        h = self.tgnorm3(h)\n",
    "        h = self.act(h)\n",
    "        h = self.tconv2(torch.cat([h, h2], dim=1))\n",
    "        h += self.dense7(embed)\n",
    "        h = self.tgnorm2(h)\n",
    "        h = self.act(h)\n",
    "        h = self.tconv1(torch.cat([h, h1], dim=1))\n",
    "\n",
    "        mu = self.rho_0 * (x - self.rho_1 * h)\n",
    "\n",
    "        return mu"
   ]
  },
  {
   "cell_type": "markdown",
   "id": "5919c039",
   "metadata": {
    "execution": {
     "iopub.execute_input": "2024-05-12T12:42:52.099444Z",
     "iopub.status.busy": "2024-05-12T12:42:52.098492Z",
     "iopub.status.idle": "2024-05-12T12:42:52.104270Z",
     "shell.execute_reply": "2024-05-12T12:42:52.103222Z",
     "shell.execute_reply.started": "2024-05-12T12:42:52.099383Z"
    }
   },
   "source": [
    "## 1.(c)"
   ]
  },
  {
   "cell_type": "markdown",
   "id": "c4e11fdc",
   "metadata": {},
   "source": [
    "### Forward Process and predict_next\n",
    "Let $0 < β_t < 1,t = 1,...,T$ be an increasing sequence.\n",
    "Define $σ_t^2 = β_t = 1 − α_t.$\n",
    "$$q_{t|t−1}(x_t|x_{t−1}) = N (\\sqrt{α_t}x_{t−1}, (1 − α_t)I_d)$$"
   ]
  },
  {
   "cell_type": "code",
   "execution_count": 6,
   "id": "18d36c59",
   "metadata": {
    "execution": {
     "iopub.execute_input": "2024-05-21T15:33:36.949311Z",
     "iopub.status.busy": "2024-05-21T15:33:36.948674Z",
     "iopub.status.idle": "2024-05-21T15:33:36.959621Z",
     "shell.execute_reply": "2024-05-21T15:33:36.958675Z",
     "shell.execute_reply.started": "2024-05-21T15:33:36.949279Z"
    }
   },
   "outputs": [],
   "source": [
    "class Diffusion(nn.Module):\n",
    "    def __init__(self, model, n_steps, device, min_beta, max_beta):\n",
    "        super().__init__()\n",
    "        self.model = model\n",
    "        self.n_steps = n_steps\n",
    "        self.device = device\n",
    "\n",
    "        # Compute linear beta schedule\n",
    "        beta = torch.linspace(min_beta, max_beta, n_steps,\n",
    "                              dtype=torch.float64).to(device)\n",
    "\n",
    "        # Store beta, alpha, and alpha_bar\n",
    "        self.beta = beta\n",
    "        self.alpha = 1 - beta\n",
    "        self.alpha_bar = torch.cumprod(self.alpha, dim=0)\n",
    "\n",
    "    def forward_process(self, x0, t):\n",
    "        # Sample x_t given x_0\n",
    "        # get noised images\n",
    "        sqrt_alpha_bar = torch.sqrt(self.alpha_bar[t-1])[:, None, None, None]\n",
    "        sqrt_one_minus_alpha_bar = torch.sqrt(\n",
    "            1 - self.alpha_bar[t-1])[:, None, None, None]\n",
    "        eps1 = torch.randn_like(x0)\n",
    "        eps2 = torch.randn_like(x0)\n",
    "\n",
    "        # sample x_{t-1} from x0\n",
    "        xt_pre = sqrt_alpha_bar * x0 + sqrt_one_minus_alpha_bar * eps1\n",
    "\n",
    "        # sample x_t from x_{t-1}\n",
    "        xt = torch.sqrt(self.alpha[t])[:, None, None, None] * xt_pre+(1-self.alpha[t][:, None, None, None])*eps2\n",
    "\n",
    "        return xt.float(), xt_pre.float()\n",
    "\n",
    "    def predict_next(self, xt, t):\n",
    "        mus = self.model(xt, t.unsqueeze(1))\n",
    "        return mus\n",
    "\n",
    "    def sample_timesteps(self, n):\n",
    "        return torch.randint(low=1, high=self.n_steps, size=(n,))"
   ]
  },
  {
   "cell_type": "markdown",
   "id": "55a4d14b",
   "metadata": {},
   "source": [
    "## 1.(d) Loss Function1\n",
    "\n",
    "For each mini-batch $X_{1}, \\ldots, X_{b}$ of size $b$, we will draw a random integer $\\mathbf{t}_{\\mathbf{j}}$ between $0, \\ldots, T-1$ \n",
    "\n",
    "draw a sample from $q_{\\mathbf{t}_{\\mathbf{j}}-1 \\mid 0}\\left(X_{\\mathbf{t}_{\\mathbf{j}}-1} \\mid X_{0}\\right)$ and then a sample from $q_{\\mathbf{t}_{\\mathbf{j}} \\mid \\mathbf{t}_{\\mathbf{j}}-1}\\left(X_{\\mathbf{t}_{\\mathbf{j}}} \\mid X_{\\mathbf{t}_{\\mathbf{j}}-1}\\right)$. Thus the loss for each example $X_{j}$ is:\n",
    "\n",
    "$$\n",
    "L\\left(X_{j}, \\theta\\right)=\\frac{\\left|X_{\\mathbf{t}_{\\mathbf{j}}-1}-\\mu\\left(X_{\\mathbf{t}_{\\mathbf{j}}}, \\mathbf{t}_{\\mathbf{j}} ; \\theta\\right)\\right|^{2}}{2\\left(1-\\alpha_{\\mathbf{t}_{\\mathbf{j}}}\\right)}\n",
    "$$\n",
    "\n",
    "and is averaged over all the examples in the batch."
   ]
  },
  {
   "cell_type": "code",
   "execution_count": 7,
   "id": "47334278",
   "metadata": {
    "execution": {
     "iopub.execute_input": "2024-05-21T15:34:03.608142Z",
     "iopub.status.busy": "2024-05-21T15:34:03.607796Z",
     "iopub.status.idle": "2024-05-21T15:34:03.613920Z",
     "shell.execute_reply": "2024-05-21T15:34:03.612821Z",
     "shell.execute_reply.started": "2024-05-21T15:34:03.608116Z"
    }
   },
   "outputs": [],
   "source": [
    "def loss_fun1(diffusion,alpha,data):\n",
    "    \n",
    "    t = diffusion.sample_timesteps(data.shape[0]).to(device)          \n",
    "    xt, xt_pre = diffusion.forward_process(data, t)\n",
    "    xt_pre_predict = diffusion.predict_next(xt, t)\n",
    "\n",
    "    loss = torch.mean((xt_pre-xt_pre_predict)**2/(2*(1-alpha[t][:,None,None])))\n",
    "    return loss"
   ]
  },
  {
   "cell_type": "markdown",
   "id": "e68ce864",
   "metadata": {
    "execution": {
     "iopub.execute_input": "2024-05-15T07:29:36.928653Z",
     "iopub.status.busy": "2024-05-15T07:29:36.926659Z",
     "iopub.status.idle": "2024-05-15T07:29:36.938293Z",
     "shell.execute_reply": "2024-05-15T07:29:36.936475Z",
     "shell.execute_reply.started": "2024-05-15T07:29:36.928570Z"
    }
   },
   "source": [
    "## 1.(e) Loss Function2"
   ]
  },
  {
   "cell_type": "markdown",
   "id": "f2aecef6",
   "metadata": {},
   "source": [
    "Here we repeat the calculating the loss with same sampling t for multipul times to reduce the variance"
   ]
  },
  {
   "cell_type": "code",
   "execution_count": 8,
   "id": "f0d7b70e",
   "metadata": {
    "execution": {
     "iopub.execute_input": "2024-05-21T15:34:16.896897Z",
     "iopub.status.busy": "2024-05-21T15:34:16.896534Z",
     "iopub.status.idle": "2024-05-21T15:34:16.903064Z",
     "shell.execute_reply": "2024-05-21T15:34:16.902048Z",
     "shell.execute_reply.started": "2024-05-21T15:34:16.896860Z"
    }
   },
   "outputs": [],
   "source": [
    "def loss_fun2(diffusion,alpha,data, num_samples):\n",
    "    \n",
    "    t = diffusion.sample_timesteps(data.shape[0]).to(device)  \n",
    "    loss=0.0\n",
    "    \n",
    "    for i in range(num_samples):\n",
    "        xt, xt_pre = diffusion.forward_process(data, t)\n",
    "        xt_pre_predict = diffusion.predict_next(xt, t)\n",
    "        loss += torch.mean((xt_pre-xt_pre_predict)**2/(2*(1-alpha[t][:,None,None])))\n",
    "        \n",
    "    return loss/num_samples"
   ]
  },
  {
   "cell_type": "markdown",
   "id": "ef5c3af5",
   "metadata": {},
   "source": [
    "## 1.(f) Train model"
   ]
  },
  {
   "cell_type": "code",
   "execution_count": 9,
   "id": "d9edffc6",
   "metadata": {
    "execution": {
     "iopub.execute_input": "2024-05-21T15:34:29.108068Z",
     "iopub.status.busy": "2024-05-21T15:34:29.107622Z",
     "iopub.status.idle": "2024-05-21T15:34:29.132641Z",
     "shell.execute_reply": "2024-05-21T15:34:29.131278Z",
     "shell.execute_reply.started": "2024-05-21T15:34:29.108031Z"
    }
   },
   "outputs": [],
   "source": [
    "def testt(epoch,pars, diffusion, val_loader, ttype='val'):\n",
    "    diffusion.model.eval()\n",
    "    with torch.no_grad():\n",
    "        device = pars.device\n",
    "        epoch_loss = 0.0\n",
    "        val_bar = tqdm(val_loader, desc=f\"Epoch [{epoch + 1}/{pars.num_epochs}]\", unit=\"batch\")\n",
    "        for data, _ in val_bar:\n",
    "            data = data.to(device)\n",
    "            loss =loss_fun1(diffusion,diffusion.alpha,data)\n",
    "            epoch_loss += loss.item()\n",
    "\n",
    "        epoch_loss /= len(val_loader)\n",
    "    return epoch_loss\n",
    "\n",
    "\n",
    "def train(pars):\n",
    "    device = pars.device\n",
    "    if pars.dataset == 'mnist':\n",
    "        train, val, test = get_mnist(pars.train_size, pars.val_size)\n",
    "        \n",
    "        # Create TensorDataset for train and validation data\n",
    "        train_dataset = TensorDataset(torch.from_numpy(train[0]), torch.from_numpy(train[1]))\n",
    "        val_dataset = TensorDataset(torch.from_numpy(val[0]), torch.from_numpy(val[1]))\n",
    "        \n",
    "        # Create DataLoader for train and validation datasets\n",
    "        train_loader = DataLoader(train_dataset, batch_size=pars.batch_size, shuffle=True, num_workers=4, pin_memory=True)\n",
    "        val_loader = DataLoader(val_dataset, batch_size=pars.batch_size, shuffle=False, num_workers=4, pin_memory=True)\n",
    "\n",
    "    if not pars.model_path:\n",
    "        model = pars.model_type().to(device)\n",
    "    else:\n",
    "        model = torch.load(model_path).to(device)\n",
    "    \n",
    "    # Set learning rate for all parameters except ρ0 and ρ1\n",
    "    base_params = [param for name, param in model.named_parameters() if name not in ['module.rho0', 'module.rho1']]\n",
    "    rho_params = [param for name, param in model.named_parameters() if name in ['module.rho0', 'module.rho1']]\n",
    "\n",
    "    optimizer = pars.optimizer([\n",
    "        {'params': base_params, 'lr': pars.lr_base_params},\n",
    "        {'params': rho_params, 'lr': pars.lr_rho_params}\n",
    "    ])\n",
    "\n",
    "    diffusion = Diffusion(model=model, n_steps=pars.n_steps, device=device, min_beta=pars.min_beta,\n",
    "                          max_beta=pars.max_beta)\n",
    "\n",
    "    writer = SummaryWriter()\n",
    "\n",
    "    epoch_loss_list, epoch_loss_val_list = [], []\n",
    "    best_val_loss = float('inf')\n",
    "    best_model = None\n",
    "\n",
    "    for epoch in range(pars.num_epochs):\n",
    "        epoch_loss = 0.0\n",
    "        train_bar = tqdm(train_loader, desc=f\"Epoch [{epoch + 1}/{pars.num_epochs}]\", unit=\"batch\")\n",
    "        for data, _ in train_bar:\n",
    "            data = data.to(device)\n",
    "            loss =loss_fun1(diffusion,diffusion.alpha,data)\n",
    "            \n",
    "            optimizer.zero_grad()\n",
    "            loss.backward()\n",
    "            optimizer.step()\n",
    "            epoch_loss += loss.item()\n",
    "\n",
    "        # Reduce learning rate by a factor of 10 every 20 epochs\n",
    "        if (epoch + 1) % 20 == 0:\n",
    "            for param_group in optimizer.param_groups:\n",
    "                param_group['lr'] *= 0.1\n",
    "\n",
    "        epoch_loss /= len(train_loader)\n",
    "        epoch_loss_val = testt(epoch, pars, diffusion,val_loader,'val')\n",
    "        epoch_loss_list.append(epoch_loss)\n",
    "        epoch_loss_val_list.append(epoch_loss_val)\n",
    "\n",
    "        writer.add_scalar('train/loss', epoch_loss, epoch)\n",
    "        writer.add_scalar('val/loss', epoch_loss_val, epoch)\n",
    "        \n",
    "        for i, param_group in enumerate(optimizer.param_groups):\n",
    "            writer.add_scalar(f'learning_rate/group_{i}', param_group['lr'], epoch)\n",
    "        \n",
    "        print(f\"Epoch [{epoch + 1}/{pars.num_epochs}], train Loss: {epoch_loss:.4f}\", end=\", \")\n",
    "        print(f'val Loss: {epoch_loss_val:.4f}')\n",
    "\n",
    "        # Keep track of the best model based on validation loss\n",
    "        if epoch_loss_val < best_val_loss:\n",
    "            best_val_loss = epoch_loss_val\n",
    "            best_model = diffusion.model.state_dict()\n",
    "        \n",
    "        # Release unused GPU memory after each epoch\n",
    "        torch.cuda.empty_cache()\n",
    "\n",
    "    # Save the best model\n",
    "    torch.save(best_model, '/kaggle/working/best_model_ScoreNet_mu.pth')\n",
    "    # Load the best model parameters into the model\n",
    "    diffusion.model.load_state_dict(best_model)\n",
    "    return diffusion,epoch_loss_list,epoch_loss_val_list\n"
   ]
  },
  {
   "cell_type": "code",
   "execution_count": 11,
   "id": "3f4c69de",
   "metadata": {
    "execution": {
     "iopub.execute_input": "2024-05-21T15:37:43.411320Z",
     "iopub.status.busy": "2024-05-21T15:37:43.410941Z",
     "iopub.status.idle": "2024-05-21T15:43:58.676688Z",
     "shell.execute_reply": "2024-05-21T15:43:58.675451Z",
     "shell.execute_reply.started": "2024-05-21T15:37:43.411291Z"
    }
   },
   "outputs": [
    {
     "data": {
      "application/vnd.jupyter.widget-view+json": {
       "model_id": "b729796214394700852f0706ab9e31af",
       "version_major": 2,
       "version_minor": 0
      },
      "text/plain": [
       "Epoch [1/60]:   0%|          | 0/500 [00:00<?, ?batch/s]"
      ]
     },
     "metadata": {},
     "output_type": "display_data"
    },
    {
     "data": {
      "application/vnd.jupyter.widget-view+json": {
       "model_id": "0fffd948ef9d4c57a516a4a16895597b",
       "version_major": 2,
       "version_minor": 0
      },
      "text/plain": [
       "Epoch [1/60]:   0%|          | 0/50 [00:00<?, ?batch/s]"
      ]
     },
     "metadata": {},
     "output_type": "display_data"
    },
    {
     "name": "stdout",
     "output_type": "stream",
     "text": [
      "Epoch [1/60], train Loss: 6.4934, val Loss: 0.2161\n"
     ]
    },
    {
     "data": {
      "application/vnd.jupyter.widget-view+json": {
       "model_id": "bcd3ba935fdb446f9bb821b771046f6a",
       "version_major": 2,
       "version_minor": 0
      },
      "text/plain": [
       "Epoch [2/60]:   0%|          | 0/500 [00:00<?, ?batch/s]"
      ]
     },
     "metadata": {},
     "output_type": "display_data"
    },
    {
     "data": {
      "application/vnd.jupyter.widget-view+json": {
       "model_id": "76575211aed04e37823c643f7a7d5837",
       "version_major": 2,
       "version_minor": 0
      },
      "text/plain": [
       "Epoch [2/60]:   0%|          | 0/50 [00:00<?, ?batch/s]"
      ]
     },
     "metadata": {},
     "output_type": "display_data"
    },
    {
     "name": "stdout",
     "output_type": "stream",
     "text": [
      "Epoch [2/60], train Loss: 0.1940, val Loss: 0.1695\n"
     ]
    },
    {
     "data": {
      "application/vnd.jupyter.widget-view+json": {
       "model_id": "f61be799400f4e57a7ddfed343b7e388",
       "version_major": 2,
       "version_minor": 0
      },
      "text/plain": [
       "Epoch [3/60]:   0%|          | 0/500 [00:00<?, ?batch/s]"
      ]
     },
     "metadata": {},
     "output_type": "display_data"
    },
    {
     "data": {
      "application/vnd.jupyter.widget-view+json": {
       "model_id": "7c48e7ad19bf4b2c84427b07d9f3fc6f",
       "version_major": 2,
       "version_minor": 0
      },
      "text/plain": [
       "Epoch [3/60]:   0%|          | 0/50 [00:00<?, ?batch/s]"
      ]
     },
     "metadata": {},
     "output_type": "display_data"
    },
    {
     "name": "stdout",
     "output_type": "stream",
     "text": [
      "Epoch [3/60], train Loss: 0.1631, val Loss: 0.1562\n"
     ]
    },
    {
     "data": {
      "application/vnd.jupyter.widget-view+json": {
       "model_id": "8e884930cb0e4e0e82dd1bc5f1e238ce",
       "version_major": 2,
       "version_minor": 0
      },
      "text/plain": [
       "Epoch [4/60]:   0%|          | 0/500 [00:00<?, ?batch/s]"
      ]
     },
     "metadata": {},
     "output_type": "display_data"
    },
    {
     "data": {
      "application/vnd.jupyter.widget-view+json": {
       "model_id": "9d4844de70d24824adcc70f8fa4f02ca",
       "version_major": 2,
       "version_minor": 0
      },
      "text/plain": [
       "Epoch [4/60]:   0%|          | 0/50 [00:00<?, ?batch/s]"
      ]
     },
     "metadata": {},
     "output_type": "display_data"
    },
    {
     "name": "stdout",
     "output_type": "stream",
     "text": [
      "Epoch [4/60], train Loss: 0.1504, val Loss: 0.1356\n"
     ]
    },
    {
     "data": {
      "application/vnd.jupyter.widget-view+json": {
       "model_id": "738152ebe7294830a0bebc38796c3e33",
       "version_major": 2,
       "version_minor": 0
      },
      "text/plain": [
       "Epoch [5/60]:   0%|          | 0/500 [00:00<?, ?batch/s]"
      ]
     },
     "metadata": {},
     "output_type": "display_data"
    },
    {
     "data": {
      "application/vnd.jupyter.widget-view+json": {
       "model_id": "e141eb7d041c4ff2afcff0e3798ecccf",
       "version_major": 2,
       "version_minor": 0
      },
      "text/plain": [
       "Epoch [5/60]:   0%|          | 0/50 [00:00<?, ?batch/s]"
      ]
     },
     "metadata": {},
     "output_type": "display_data"
    },
    {
     "name": "stdout",
     "output_type": "stream",
     "text": [
      "Epoch [5/60], train Loss: 0.1405, val Loss: 0.1358\n"
     ]
    },
    {
     "data": {
      "application/vnd.jupyter.widget-view+json": {
       "model_id": "7a8765ce454e455e820963400c50c136",
       "version_major": 2,
       "version_minor": 0
      },
      "text/plain": [
       "Epoch [6/60]:   0%|          | 0/500 [00:00<?, ?batch/s]"
      ]
     },
     "metadata": {},
     "output_type": "display_data"
    },
    {
     "data": {
      "application/vnd.jupyter.widget-view+json": {
       "model_id": "a6698ade170543fbb4212717d47ab50d",
       "version_major": 2,
       "version_minor": 0
      },
      "text/plain": [
       "Epoch [6/60]:   0%|          | 0/50 [00:00<?, ?batch/s]"
      ]
     },
     "metadata": {},
     "output_type": "display_data"
    },
    {
     "name": "stdout",
     "output_type": "stream",
     "text": [
      "Epoch [6/60], train Loss: 0.1266, val Loss: 0.1232\n"
     ]
    },
    {
     "data": {
      "application/vnd.jupyter.widget-view+json": {
       "model_id": "25bc2dca74f84cea85a4aa3904de7d8e",
       "version_major": 2,
       "version_minor": 0
      },
      "text/plain": [
       "Epoch [7/60]:   0%|          | 0/500 [00:00<?, ?batch/s]"
      ]
     },
     "metadata": {},
     "output_type": "display_data"
    },
    {
     "data": {
      "application/vnd.jupyter.widget-view+json": {
       "model_id": "166bd2bd9c4c46c6b8a929a1de181359",
       "version_major": 2,
       "version_minor": 0
      },
      "text/plain": [
       "Epoch [7/60]:   0%|          | 0/50 [00:00<?, ?batch/s]"
      ]
     },
     "metadata": {},
     "output_type": "display_data"
    },
    {
     "name": "stdout",
     "output_type": "stream",
     "text": [
      "Epoch [7/60], train Loss: 0.1176, val Loss: 0.1233\n"
     ]
    },
    {
     "data": {
      "application/vnd.jupyter.widget-view+json": {
       "model_id": "e2a65e9d62974291acfdba46f273e77b",
       "version_major": 2,
       "version_minor": 0
      },
      "text/plain": [
       "Epoch [8/60]:   0%|          | 0/500 [00:00<?, ?batch/s]"
      ]
     },
     "metadata": {},
     "output_type": "display_data"
    },
    {
     "data": {
      "application/vnd.jupyter.widget-view+json": {
       "model_id": "726bccc978e84cffaa9f6e0329077859",
       "version_major": 2,
       "version_minor": 0
      },
      "text/plain": [
       "Epoch [8/60]:   0%|          | 0/50 [00:00<?, ?batch/s]"
      ]
     },
     "metadata": {},
     "output_type": "display_data"
    },
    {
     "name": "stdout",
     "output_type": "stream",
     "text": [
      "Epoch [8/60], train Loss: 0.1086, val Loss: 0.1098\n"
     ]
    },
    {
     "data": {
      "application/vnd.jupyter.widget-view+json": {
       "model_id": "75d56e3c6ff9468d9ff63d55d41d7bdc",
       "version_major": 2,
       "version_minor": 0
      },
      "text/plain": [
       "Epoch [9/60]:   0%|          | 0/500 [00:00<?, ?batch/s]"
      ]
     },
     "metadata": {},
     "output_type": "display_data"
    },
    {
     "data": {
      "application/vnd.jupyter.widget-view+json": {
       "model_id": "3454c17597894bc2bb20610a7f9e9840",
       "version_major": 2,
       "version_minor": 0
      },
      "text/plain": [
       "Epoch [9/60]:   0%|          | 0/50 [00:00<?, ?batch/s]"
      ]
     },
     "metadata": {},
     "output_type": "display_data"
    },
    {
     "name": "stdout",
     "output_type": "stream",
     "text": [
      "Epoch [9/60], train Loss: 0.1075, val Loss: 0.1020\n"
     ]
    },
    {
     "data": {
      "application/vnd.jupyter.widget-view+json": {
       "model_id": "2421aa446c1244238db769bf82003a28",
       "version_major": 2,
       "version_minor": 0
      },
      "text/plain": [
       "Epoch [10/60]:   0%|          | 0/500 [00:00<?, ?batch/s]"
      ]
     },
     "metadata": {},
     "output_type": "display_data"
    },
    {
     "data": {
      "application/vnd.jupyter.widget-view+json": {
       "model_id": "fc695aabf3054d09b193dc2a26d83b14",
       "version_major": 2,
       "version_minor": 0
      },
      "text/plain": [
       "Epoch [10/60]:   0%|          | 0/50 [00:00<?, ?batch/s]"
      ]
     },
     "metadata": {},
     "output_type": "display_data"
    },
    {
     "name": "stdout",
     "output_type": "stream",
     "text": [
      "Epoch [10/60], train Loss: 0.1049, val Loss: 0.1149\n"
     ]
    },
    {
     "data": {
      "application/vnd.jupyter.widget-view+json": {
       "model_id": "37226313cf304c69847b39c68aae5f93",
       "version_major": 2,
       "version_minor": 0
      },
      "text/plain": [
       "Epoch [11/60]:   0%|          | 0/500 [00:00<?, ?batch/s]"
      ]
     },
     "metadata": {},
     "output_type": "display_data"
    },
    {
     "data": {
      "application/vnd.jupyter.widget-view+json": {
       "model_id": "dc75a31af45040409c4a28a481a0848f",
       "version_major": 2,
       "version_minor": 0
      },
      "text/plain": [
       "Epoch [11/60]:   0%|          | 0/50 [00:00<?, ?batch/s]"
      ]
     },
     "metadata": {},
     "output_type": "display_data"
    },
    {
     "name": "stdout",
     "output_type": "stream",
     "text": [
      "Epoch [11/60], train Loss: 0.1027, val Loss: 0.0993\n"
     ]
    },
    {
     "data": {
      "application/vnd.jupyter.widget-view+json": {
       "model_id": "e02cd932474a4faba81f679fca038dfa",
       "version_major": 2,
       "version_minor": 0
      },
      "text/plain": [
       "Epoch [12/60]:   0%|          | 0/500 [00:00<?, ?batch/s]"
      ]
     },
     "metadata": {},
     "output_type": "display_data"
    },
    {
     "data": {
      "application/vnd.jupyter.widget-view+json": {
       "model_id": "c0db46972980472992ec06d8d49497ec",
       "version_major": 2,
       "version_minor": 0
      },
      "text/plain": [
       "Epoch [12/60]:   0%|          | 0/50 [00:00<?, ?batch/s]"
      ]
     },
     "metadata": {},
     "output_type": "display_data"
    },
    {
     "name": "stdout",
     "output_type": "stream",
     "text": [
      "Epoch [12/60], train Loss: 0.1027, val Loss: 0.1102\n"
     ]
    },
    {
     "data": {
      "application/vnd.jupyter.widget-view+json": {
       "model_id": "1c6568c6daec415f8420ea5b80074c20",
       "version_major": 2,
       "version_minor": 0
      },
      "text/plain": [
       "Epoch [13/60]:   0%|          | 0/500 [00:00<?, ?batch/s]"
      ]
     },
     "metadata": {},
     "output_type": "display_data"
    },
    {
     "data": {
      "application/vnd.jupyter.widget-view+json": {
       "model_id": "6a523e96d4534c468fd714e5954b05ad",
       "version_major": 2,
       "version_minor": 0
      },
      "text/plain": [
       "Epoch [13/60]:   0%|          | 0/50 [00:00<?, ?batch/s]"
      ]
     },
     "metadata": {},
     "output_type": "display_data"
    },
    {
     "name": "stdout",
     "output_type": "stream",
     "text": [
      "Epoch [13/60], train Loss: 0.1028, val Loss: 0.1022\n"
     ]
    },
    {
     "data": {
      "application/vnd.jupyter.widget-view+json": {
       "model_id": "e3fd0bc542ea4383a144a85c9c18594d",
       "version_major": 2,
       "version_minor": 0
      },
      "text/plain": [
       "Epoch [14/60]:   0%|          | 0/500 [00:00<?, ?batch/s]"
      ]
     },
     "metadata": {},
     "output_type": "display_data"
    },
    {
     "data": {
      "application/vnd.jupyter.widget-view+json": {
       "model_id": "aed3494357994e8fb77b75433455b15d",
       "version_major": 2,
       "version_minor": 0
      },
      "text/plain": [
       "Epoch [14/60]:   0%|          | 0/50 [00:00<?, ?batch/s]"
      ]
     },
     "metadata": {},
     "output_type": "display_data"
    },
    {
     "name": "stdout",
     "output_type": "stream",
     "text": [
      "Epoch [14/60], train Loss: 0.1043, val Loss: 0.1014\n"
     ]
    },
    {
     "data": {
      "application/vnd.jupyter.widget-view+json": {
       "model_id": "40a96576d3ab436086fdb4e9ce4277ef",
       "version_major": 2,
       "version_minor": 0
      },
      "text/plain": [
       "Epoch [15/60]:   0%|          | 0/500 [00:00<?, ?batch/s]"
      ]
     },
     "metadata": {},
     "output_type": "display_data"
    },
    {
     "data": {
      "application/vnd.jupyter.widget-view+json": {
       "model_id": "b86b364cce484208a432fb9c8c8abe42",
       "version_major": 2,
       "version_minor": 0
      },
      "text/plain": [
       "Epoch [15/60]:   0%|          | 0/50 [00:00<?, ?batch/s]"
      ]
     },
     "metadata": {},
     "output_type": "display_data"
    },
    {
     "name": "stdout",
     "output_type": "stream",
     "text": [
      "Epoch [15/60], train Loss: 0.1021, val Loss: 0.1089\n"
     ]
    },
    {
     "data": {
      "application/vnd.jupyter.widget-view+json": {
       "model_id": "6adde9017a6d42d394b942657f998f5c",
       "version_major": 2,
       "version_minor": 0
      },
      "text/plain": [
       "Epoch [16/60]:   0%|          | 0/500 [00:00<?, ?batch/s]"
      ]
     },
     "metadata": {},
     "output_type": "display_data"
    },
    {
     "data": {
      "application/vnd.jupyter.widget-view+json": {
       "model_id": "e3007df012d6421f97d0e1b14ff72d6b",
       "version_major": 2,
       "version_minor": 0
      },
      "text/plain": [
       "Epoch [16/60]:   0%|          | 0/50 [00:00<?, ?batch/s]"
      ]
     },
     "metadata": {},
     "output_type": "display_data"
    },
    {
     "name": "stdout",
     "output_type": "stream",
     "text": [
      "Epoch [16/60], train Loss: 0.1016, val Loss: 0.0987\n"
     ]
    },
    {
     "data": {
      "application/vnd.jupyter.widget-view+json": {
       "model_id": "e9aa4c3083a24a648b36b104c6967d2f",
       "version_major": 2,
       "version_minor": 0
      },
      "text/plain": [
       "Epoch [17/60]:   0%|          | 0/500 [00:00<?, ?batch/s]"
      ]
     },
     "metadata": {},
     "output_type": "display_data"
    },
    {
     "data": {
      "application/vnd.jupyter.widget-view+json": {
       "model_id": "cad0df21ccb4478e8120c7ae9bfdd99e",
       "version_major": 2,
       "version_minor": 0
      },
      "text/plain": [
       "Epoch [17/60]:   0%|          | 0/50 [00:00<?, ?batch/s]"
      ]
     },
     "metadata": {},
     "output_type": "display_data"
    },
    {
     "name": "stdout",
     "output_type": "stream",
     "text": [
      "Epoch [17/60], train Loss: 0.1041, val Loss: 0.0996\n"
     ]
    },
    {
     "data": {
      "application/vnd.jupyter.widget-view+json": {
       "model_id": "cd6bede7c2c542cb8e3569c4b67ef75f",
       "version_major": 2,
       "version_minor": 0
      },
      "text/plain": [
       "Epoch [18/60]:   0%|          | 0/500 [00:00<?, ?batch/s]"
      ]
     },
     "metadata": {},
     "output_type": "display_data"
    },
    {
     "data": {
      "application/vnd.jupyter.widget-view+json": {
       "model_id": "14db25adcb734cabbb8ed9a097dd463d",
       "version_major": 2,
       "version_minor": 0
      },
      "text/plain": [
       "Epoch [18/60]:   0%|          | 0/50 [00:00<?, ?batch/s]"
      ]
     },
     "metadata": {},
     "output_type": "display_data"
    },
    {
     "name": "stdout",
     "output_type": "stream",
     "text": [
      "Epoch [18/60], train Loss: 0.1023, val Loss: 0.0984\n"
     ]
    },
    {
     "data": {
      "application/vnd.jupyter.widget-view+json": {
       "model_id": "025c2ad1f3024e6eb1b788e092cbb04a",
       "version_major": 2,
       "version_minor": 0
      },
      "text/plain": [
       "Epoch [19/60]:   0%|          | 0/500 [00:00<?, ?batch/s]"
      ]
     },
     "metadata": {},
     "output_type": "display_data"
    },
    {
     "data": {
      "application/vnd.jupyter.widget-view+json": {
       "model_id": "79ef58db59fa48908c5dcc12f11746d8",
       "version_major": 2,
       "version_minor": 0
      },
      "text/plain": [
       "Epoch [19/60]:   0%|          | 0/50 [00:00<?, ?batch/s]"
      ]
     },
     "metadata": {},
     "output_type": "display_data"
    },
    {
     "name": "stdout",
     "output_type": "stream",
     "text": [
      "Epoch [19/60], train Loss: 0.0991, val Loss: 0.0968\n"
     ]
    },
    {
     "data": {
      "application/vnd.jupyter.widget-view+json": {
       "model_id": "ab9d2d0107804d0799c04d35b787bd21",
       "version_major": 2,
       "version_minor": 0
      },
      "text/plain": [
       "Epoch [20/60]:   0%|          | 0/500 [00:00<?, ?batch/s]"
      ]
     },
     "metadata": {},
     "output_type": "display_data"
    },
    {
     "data": {
      "application/vnd.jupyter.widget-view+json": {
       "model_id": "7ff4eaa99e3e4654a6c422749b27fff1",
       "version_major": 2,
       "version_minor": 0
      },
      "text/plain": [
       "Epoch [20/60]:   0%|          | 0/50 [00:00<?, ?batch/s]"
      ]
     },
     "metadata": {},
     "output_type": "display_data"
    },
    {
     "name": "stdout",
     "output_type": "stream",
     "text": [
      "Epoch [20/60], train Loss: 0.1012, val Loss: 0.1033\n"
     ]
    },
    {
     "data": {
      "application/vnd.jupyter.widget-view+json": {
       "model_id": "b31380c2b23443f2a659eceba3d41f31",
       "version_major": 2,
       "version_minor": 0
      },
      "text/plain": [
       "Epoch [21/60]:   0%|          | 0/500 [00:00<?, ?batch/s]"
      ]
     },
     "metadata": {},
     "output_type": "display_data"
    },
    {
     "data": {
      "application/vnd.jupyter.widget-view+json": {
       "model_id": "70cf47bf7eda460db8981e36b06a8acd",
       "version_major": 2,
       "version_minor": 0
      },
      "text/plain": [
       "Epoch [21/60]:   0%|          | 0/50 [00:00<?, ?batch/s]"
      ]
     },
     "metadata": {},
     "output_type": "display_data"
    },
    {
     "name": "stdout",
     "output_type": "stream",
     "text": [
      "Epoch [21/60], train Loss: 0.0999, val Loss: 0.0995\n"
     ]
    },
    {
     "data": {
      "application/vnd.jupyter.widget-view+json": {
       "model_id": "7c212134faa64627b6ab94318f6ea2df",
       "version_major": 2,
       "version_minor": 0
      },
      "text/plain": [
       "Epoch [22/60]:   0%|          | 0/500 [00:00<?, ?batch/s]"
      ]
     },
     "metadata": {},
     "output_type": "display_data"
    },
    {
     "data": {
      "application/vnd.jupyter.widget-view+json": {
       "model_id": "40318d31f0974940b0b96829d2f04a17",
       "version_major": 2,
       "version_minor": 0
      },
      "text/plain": [
       "Epoch [22/60]:   0%|          | 0/50 [00:00<?, ?batch/s]"
      ]
     },
     "metadata": {},
     "output_type": "display_data"
    },
    {
     "name": "stdout",
     "output_type": "stream",
     "text": [
      "Epoch [22/60], train Loss: 0.1018, val Loss: 0.0986\n"
     ]
    },
    {
     "data": {
      "application/vnd.jupyter.widget-view+json": {
       "model_id": "dec8800e404b466cb0255db4ecea224f",
       "version_major": 2,
       "version_minor": 0
      },
      "text/plain": [
       "Epoch [23/60]:   0%|          | 0/500 [00:00<?, ?batch/s]"
      ]
     },
     "metadata": {},
     "output_type": "display_data"
    },
    {
     "data": {
      "application/vnd.jupyter.widget-view+json": {
       "model_id": "0b77f04362594c089746701f6f7ebb54",
       "version_major": 2,
       "version_minor": 0
      },
      "text/plain": [
       "Epoch [23/60]:   0%|          | 0/50 [00:00<?, ?batch/s]"
      ]
     },
     "metadata": {},
     "output_type": "display_data"
    },
    {
     "name": "stdout",
     "output_type": "stream",
     "text": [
      "Epoch [23/60], train Loss: 0.0994, val Loss: 0.0980\n"
     ]
    },
    {
     "data": {
      "application/vnd.jupyter.widget-view+json": {
       "model_id": "6017d6f86bc643bc867fd97326c25d05",
       "version_major": 2,
       "version_minor": 0
      },
      "text/plain": [
       "Epoch [24/60]:   0%|          | 0/500 [00:00<?, ?batch/s]"
      ]
     },
     "metadata": {},
     "output_type": "display_data"
    },
    {
     "data": {
      "application/vnd.jupyter.widget-view+json": {
       "model_id": "63acd3e8e44b45f5a81b61e31ab65c1e",
       "version_major": 2,
       "version_minor": 0
      },
      "text/plain": [
       "Epoch [24/60]:   0%|          | 0/50 [00:00<?, ?batch/s]"
      ]
     },
     "metadata": {},
     "output_type": "display_data"
    },
    {
     "name": "stdout",
     "output_type": "stream",
     "text": [
      "Epoch [24/60], train Loss: 0.0968, val Loss: 0.0996\n"
     ]
    },
    {
     "data": {
      "application/vnd.jupyter.widget-view+json": {
       "model_id": "83fa5a9e27df486487a6076ea9c025ea",
       "version_major": 2,
       "version_minor": 0
      },
      "text/plain": [
       "Epoch [25/60]:   0%|          | 0/500 [00:00<?, ?batch/s]"
      ]
     },
     "metadata": {},
     "output_type": "display_data"
    },
    {
     "data": {
      "application/vnd.jupyter.widget-view+json": {
       "model_id": "f2e3dd28b9584720a2c99041e4603dbf",
       "version_major": 2,
       "version_minor": 0
      },
      "text/plain": [
       "Epoch [25/60]:   0%|          | 0/50 [00:00<?, ?batch/s]"
      ]
     },
     "metadata": {},
     "output_type": "display_data"
    },
    {
     "name": "stdout",
     "output_type": "stream",
     "text": [
      "Epoch [25/60], train Loss: 0.0996, val Loss: 0.1075\n"
     ]
    },
    {
     "data": {
      "application/vnd.jupyter.widget-view+json": {
       "model_id": "67f44e940f484f5a8af51b292df8ad35",
       "version_major": 2,
       "version_minor": 0
      },
      "text/plain": [
       "Epoch [26/60]:   0%|          | 0/500 [00:00<?, ?batch/s]"
      ]
     },
     "metadata": {},
     "output_type": "display_data"
    },
    {
     "data": {
      "application/vnd.jupyter.widget-view+json": {
       "model_id": "ba206babe6d941909dc85f6d0f206728",
       "version_major": 2,
       "version_minor": 0
      },
      "text/plain": [
       "Epoch [26/60]:   0%|          | 0/50 [00:00<?, ?batch/s]"
      ]
     },
     "metadata": {},
     "output_type": "display_data"
    },
    {
     "name": "stdout",
     "output_type": "stream",
     "text": [
      "Epoch [26/60], train Loss: 0.0991, val Loss: 0.1006\n"
     ]
    },
    {
     "data": {
      "application/vnd.jupyter.widget-view+json": {
       "model_id": "f3f2e7a8c7604ddc99d5ecb1ee79b330",
       "version_major": 2,
       "version_minor": 0
      },
      "text/plain": [
       "Epoch [27/60]:   0%|          | 0/500 [00:00<?, ?batch/s]"
      ]
     },
     "metadata": {},
     "output_type": "display_data"
    },
    {
     "data": {
      "application/vnd.jupyter.widget-view+json": {
       "model_id": "53353ab33e8d4870aad4d15bb2a613d6",
       "version_major": 2,
       "version_minor": 0
      },
      "text/plain": [
       "Epoch [27/60]:   0%|          | 0/50 [00:00<?, ?batch/s]"
      ]
     },
     "metadata": {},
     "output_type": "display_data"
    },
    {
     "name": "stdout",
     "output_type": "stream",
     "text": [
      "Epoch [27/60], train Loss: 0.1002, val Loss: 0.0981\n"
     ]
    },
    {
     "data": {
      "application/vnd.jupyter.widget-view+json": {
       "model_id": "e76c8db73bf64dd29992da1a240b511e",
       "version_major": 2,
       "version_minor": 0
      },
      "text/plain": [
       "Epoch [28/60]:   0%|          | 0/500 [00:00<?, ?batch/s]"
      ]
     },
     "metadata": {},
     "output_type": "display_data"
    },
    {
     "data": {
      "application/vnd.jupyter.widget-view+json": {
       "model_id": "21f0d3432b0247ac845457c727637961",
       "version_major": 2,
       "version_minor": 0
      },
      "text/plain": [
       "Epoch [28/60]:   0%|          | 0/50 [00:00<?, ?batch/s]"
      ]
     },
     "metadata": {},
     "output_type": "display_data"
    },
    {
     "name": "stdout",
     "output_type": "stream",
     "text": [
      "Epoch [28/60], train Loss: 0.1000, val Loss: 0.1014\n"
     ]
    },
    {
     "data": {
      "application/vnd.jupyter.widget-view+json": {
       "model_id": "7fe208ab60184ca3bcaec020221a9e63",
       "version_major": 2,
       "version_minor": 0
      },
      "text/plain": [
       "Epoch [29/60]:   0%|          | 0/500 [00:00<?, ?batch/s]"
      ]
     },
     "metadata": {},
     "output_type": "display_data"
    },
    {
     "data": {
      "application/vnd.jupyter.widget-view+json": {
       "model_id": "007d0491a5a34f6dbf23a25345a6ad96",
       "version_major": 2,
       "version_minor": 0
      },
      "text/plain": [
       "Epoch [29/60]:   0%|          | 0/50 [00:00<?, ?batch/s]"
      ]
     },
     "metadata": {},
     "output_type": "display_data"
    },
    {
     "name": "stdout",
     "output_type": "stream",
     "text": [
      "Epoch [29/60], train Loss: 0.0981, val Loss: 0.1003\n"
     ]
    },
    {
     "data": {
      "application/vnd.jupyter.widget-view+json": {
       "model_id": "e61918edb06d46229fbc234a699c1192",
       "version_major": 2,
       "version_minor": 0
      },
      "text/plain": [
       "Epoch [30/60]:   0%|          | 0/500 [00:00<?, ?batch/s]"
      ]
     },
     "metadata": {},
     "output_type": "display_data"
    },
    {
     "data": {
      "application/vnd.jupyter.widget-view+json": {
       "model_id": "4c70d524504240a9b85b9a6a7c6de0c5",
       "version_major": 2,
       "version_minor": 0
      },
      "text/plain": [
       "Epoch [30/60]:   0%|          | 0/50 [00:00<?, ?batch/s]"
      ]
     },
     "metadata": {},
     "output_type": "display_data"
    },
    {
     "name": "stdout",
     "output_type": "stream",
     "text": [
      "Epoch [30/60], train Loss: 0.1001, val Loss: 0.1003\n"
     ]
    },
    {
     "data": {
      "application/vnd.jupyter.widget-view+json": {
       "model_id": "dc103d5f50c44f03bd4d2b3d4ffb08b5",
       "version_major": 2,
       "version_minor": 0
      },
      "text/plain": [
       "Epoch [31/60]:   0%|          | 0/500 [00:00<?, ?batch/s]"
      ]
     },
     "metadata": {},
     "output_type": "display_data"
    },
    {
     "data": {
      "application/vnd.jupyter.widget-view+json": {
       "model_id": "82bf82bd1160465187016e8b3aad934a",
       "version_major": 2,
       "version_minor": 0
      },
      "text/plain": [
       "Epoch [31/60]:   0%|          | 0/50 [00:00<?, ?batch/s]"
      ]
     },
     "metadata": {},
     "output_type": "display_data"
    },
    {
     "name": "stdout",
     "output_type": "stream",
     "text": [
      "Epoch [31/60], train Loss: 0.1001, val Loss: 0.1009\n"
     ]
    },
    {
     "data": {
      "application/vnd.jupyter.widget-view+json": {
       "model_id": "6f95b3ef3f57437e97621861d49fac28",
       "version_major": 2,
       "version_minor": 0
      },
      "text/plain": [
       "Epoch [32/60]:   0%|          | 0/500 [00:00<?, ?batch/s]"
      ]
     },
     "metadata": {},
     "output_type": "display_data"
    },
    {
     "data": {
      "application/vnd.jupyter.widget-view+json": {
       "model_id": "ec27933c157b4cf4872b7c0b099ca6b5",
       "version_major": 2,
       "version_minor": 0
      },
      "text/plain": [
       "Epoch [32/60]:   0%|          | 0/50 [00:00<?, ?batch/s]"
      ]
     },
     "metadata": {},
     "output_type": "display_data"
    },
    {
     "name": "stdout",
     "output_type": "stream",
     "text": [
      "Epoch [32/60], train Loss: 0.1019, val Loss: 0.0983\n"
     ]
    },
    {
     "data": {
      "application/vnd.jupyter.widget-view+json": {
       "model_id": "a61bcdbc0f7f4a379e9ada3dfce563a9",
       "version_major": 2,
       "version_minor": 0
      },
      "text/plain": [
       "Epoch [33/60]:   0%|          | 0/500 [00:00<?, ?batch/s]"
      ]
     },
     "metadata": {},
     "output_type": "display_data"
    },
    {
     "data": {
      "application/vnd.jupyter.widget-view+json": {
       "model_id": "6c0661471a3f4628a0c03f19b6f9cc13",
       "version_major": 2,
       "version_minor": 0
      },
      "text/plain": [
       "Epoch [33/60]:   0%|          | 0/50 [00:00<?, ?batch/s]"
      ]
     },
     "metadata": {},
     "output_type": "display_data"
    },
    {
     "name": "stdout",
     "output_type": "stream",
     "text": [
      "Epoch [33/60], train Loss: 0.1007, val Loss: 0.1025\n"
     ]
    },
    {
     "data": {
      "application/vnd.jupyter.widget-view+json": {
       "model_id": "e2b865f225ea40338d06cc69f3238a3c",
       "version_major": 2,
       "version_minor": 0
      },
      "text/plain": [
       "Epoch [34/60]:   0%|          | 0/500 [00:00<?, ?batch/s]"
      ]
     },
     "metadata": {},
     "output_type": "display_data"
    },
    {
     "data": {
      "application/vnd.jupyter.widget-view+json": {
       "model_id": "3660d689b5e6497b937bff74f781ae6e",
       "version_major": 2,
       "version_minor": 0
      },
      "text/plain": [
       "Epoch [34/60]:   0%|          | 0/50 [00:00<?, ?batch/s]"
      ]
     },
     "metadata": {},
     "output_type": "display_data"
    },
    {
     "name": "stdout",
     "output_type": "stream",
     "text": [
      "Epoch [34/60], train Loss: 0.0978, val Loss: 0.0937\n"
     ]
    },
    {
     "data": {
      "application/vnd.jupyter.widget-view+json": {
       "model_id": "0d1ae1f3e2af4898a4eb93166f960227",
       "version_major": 2,
       "version_minor": 0
      },
      "text/plain": [
       "Epoch [35/60]:   0%|          | 0/500 [00:00<?, ?batch/s]"
      ]
     },
     "metadata": {},
     "output_type": "display_data"
    },
    {
     "data": {
      "application/vnd.jupyter.widget-view+json": {
       "model_id": "6c9c3546b0e24e50b09efc14dd024459",
       "version_major": 2,
       "version_minor": 0
      },
      "text/plain": [
       "Epoch [35/60]:   0%|          | 0/50 [00:00<?, ?batch/s]"
      ]
     },
     "metadata": {},
     "output_type": "display_data"
    },
    {
     "name": "stdout",
     "output_type": "stream",
     "text": [
      "Epoch [35/60], train Loss: 0.1036, val Loss: 0.1031\n"
     ]
    },
    {
     "data": {
      "application/vnd.jupyter.widget-view+json": {
       "model_id": "f85890be1b5848a58b334e07d2881bae",
       "version_major": 2,
       "version_minor": 0
      },
      "text/plain": [
       "Epoch [36/60]:   0%|          | 0/500 [00:00<?, ?batch/s]"
      ]
     },
     "metadata": {},
     "output_type": "display_data"
    },
    {
     "data": {
      "application/vnd.jupyter.widget-view+json": {
       "model_id": "26dfb376e7cc4cddb13d926dd1487592",
       "version_major": 2,
       "version_minor": 0
      },
      "text/plain": [
       "Epoch [36/60]:   0%|          | 0/50 [00:00<?, ?batch/s]"
      ]
     },
     "metadata": {},
     "output_type": "display_data"
    },
    {
     "name": "stdout",
     "output_type": "stream",
     "text": [
      "Epoch [36/60], train Loss: 0.1013, val Loss: 0.0974\n"
     ]
    },
    {
     "data": {
      "application/vnd.jupyter.widget-view+json": {
       "model_id": "8bb8aff0969a4e86aabedfcac6c0cf14",
       "version_major": 2,
       "version_minor": 0
      },
      "text/plain": [
       "Epoch [37/60]:   0%|          | 0/500 [00:00<?, ?batch/s]"
      ]
     },
     "metadata": {},
     "output_type": "display_data"
    },
    {
     "data": {
      "application/vnd.jupyter.widget-view+json": {
       "model_id": "e68fac19caf44e92b8d738bb2fe8c863",
       "version_major": 2,
       "version_minor": 0
      },
      "text/plain": [
       "Epoch [37/60]:   0%|          | 0/50 [00:00<?, ?batch/s]"
      ]
     },
     "metadata": {},
     "output_type": "display_data"
    },
    {
     "name": "stdout",
     "output_type": "stream",
     "text": [
      "Epoch [37/60], train Loss: 0.1010, val Loss: 0.1031\n"
     ]
    },
    {
     "data": {
      "application/vnd.jupyter.widget-view+json": {
       "model_id": "41cf84ec45ae4b7fa149514f15c9b7d0",
       "version_major": 2,
       "version_minor": 0
      },
      "text/plain": [
       "Epoch [38/60]:   0%|          | 0/500 [00:00<?, ?batch/s]"
      ]
     },
     "metadata": {},
     "output_type": "display_data"
    },
    {
     "data": {
      "application/vnd.jupyter.widget-view+json": {
       "model_id": "216f3f413cef434297a4018cefbc1d42",
       "version_major": 2,
       "version_minor": 0
      },
      "text/plain": [
       "Epoch [38/60]:   0%|          | 0/50 [00:00<?, ?batch/s]"
      ]
     },
     "metadata": {},
     "output_type": "display_data"
    },
    {
     "name": "stdout",
     "output_type": "stream",
     "text": [
      "Epoch [38/60], train Loss: 0.1016, val Loss: 0.0967\n"
     ]
    },
    {
     "data": {
      "application/vnd.jupyter.widget-view+json": {
       "model_id": "ccdcddc1d0ef42f5aebfcef5d6221f22",
       "version_major": 2,
       "version_minor": 0
      },
      "text/plain": [
       "Epoch [39/60]:   0%|          | 0/500 [00:00<?, ?batch/s]"
      ]
     },
     "metadata": {},
     "output_type": "display_data"
    },
    {
     "data": {
      "application/vnd.jupyter.widget-view+json": {
       "model_id": "5c35bdec09d844718d44b857626f63ee",
       "version_major": 2,
       "version_minor": 0
      },
      "text/plain": [
       "Epoch [39/60]:   0%|          | 0/50 [00:00<?, ?batch/s]"
      ]
     },
     "metadata": {},
     "output_type": "display_data"
    },
    {
     "name": "stdout",
     "output_type": "stream",
     "text": [
      "Epoch [39/60], train Loss: 0.1005, val Loss: 0.1052\n"
     ]
    },
    {
     "data": {
      "application/vnd.jupyter.widget-view+json": {
       "model_id": "9642170844254e049fbd91d8a12684de",
       "version_major": 2,
       "version_minor": 0
      },
      "text/plain": [
       "Epoch [40/60]:   0%|          | 0/500 [00:00<?, ?batch/s]"
      ]
     },
     "metadata": {},
     "output_type": "display_data"
    },
    {
     "data": {
      "application/vnd.jupyter.widget-view+json": {
       "model_id": "8ce5822426c6494a8af3d59c7db3d46c",
       "version_major": 2,
       "version_minor": 0
      },
      "text/plain": [
       "Epoch [40/60]:   0%|          | 0/50 [00:00<?, ?batch/s]"
      ]
     },
     "metadata": {},
     "output_type": "display_data"
    },
    {
     "name": "stdout",
     "output_type": "stream",
     "text": [
      "Epoch [40/60], train Loss: 0.1010, val Loss: 0.0957\n"
     ]
    },
    {
     "data": {
      "application/vnd.jupyter.widget-view+json": {
       "model_id": "4e29c0a4dced4a6ba2c2343b7f04a598",
       "version_major": 2,
       "version_minor": 0
      },
      "text/plain": [
       "Epoch [41/60]:   0%|          | 0/500 [00:00<?, ?batch/s]"
      ]
     },
     "metadata": {},
     "output_type": "display_data"
    },
    {
     "data": {
      "application/vnd.jupyter.widget-view+json": {
       "model_id": "2a381ace2f5e4d45a18bc928082bf660",
       "version_major": 2,
       "version_minor": 0
      },
      "text/plain": [
       "Epoch [41/60]:   0%|          | 0/50 [00:00<?, ?batch/s]"
      ]
     },
     "metadata": {},
     "output_type": "display_data"
    },
    {
     "name": "stdout",
     "output_type": "stream",
     "text": [
      "Epoch [41/60], train Loss: 0.0995, val Loss: 0.0958\n"
     ]
    },
    {
     "data": {
      "application/vnd.jupyter.widget-view+json": {
       "model_id": "969b5089a0ba4e41af8e629cd3e9fa3d",
       "version_major": 2,
       "version_minor": 0
      },
      "text/plain": [
       "Epoch [42/60]:   0%|          | 0/500 [00:00<?, ?batch/s]"
      ]
     },
     "metadata": {},
     "output_type": "display_data"
    },
    {
     "data": {
      "application/vnd.jupyter.widget-view+json": {
       "model_id": "7d20065fe40541e1b792a057aff735c5",
       "version_major": 2,
       "version_minor": 0
      },
      "text/plain": [
       "Epoch [42/60]:   0%|          | 0/50 [00:00<?, ?batch/s]"
      ]
     },
     "metadata": {},
     "output_type": "display_data"
    },
    {
     "name": "stdout",
     "output_type": "stream",
     "text": [
      "Epoch [42/60], train Loss: 0.1018, val Loss: 0.0994\n"
     ]
    },
    {
     "data": {
      "application/vnd.jupyter.widget-view+json": {
       "model_id": "ca34e940700b43cdb6904a912691e8f0",
       "version_major": 2,
       "version_minor": 0
      },
      "text/plain": [
       "Epoch [43/60]:   0%|          | 0/500 [00:00<?, ?batch/s]"
      ]
     },
     "metadata": {},
     "output_type": "display_data"
    },
    {
     "data": {
      "application/vnd.jupyter.widget-view+json": {
       "model_id": "60e2f7c714324b76ae5bb7cf05205d75",
       "version_major": 2,
       "version_minor": 0
      },
      "text/plain": [
       "Epoch [43/60]:   0%|          | 0/50 [00:00<?, ?batch/s]"
      ]
     },
     "metadata": {},
     "output_type": "display_data"
    },
    {
     "name": "stdout",
     "output_type": "stream",
     "text": [
      "Epoch [43/60], train Loss: 0.1014, val Loss: 0.1024\n"
     ]
    },
    {
     "data": {
      "application/vnd.jupyter.widget-view+json": {
       "model_id": "cd1cec400cf547a68af2002ac795c665",
       "version_major": 2,
       "version_minor": 0
      },
      "text/plain": [
       "Epoch [44/60]:   0%|          | 0/500 [00:00<?, ?batch/s]"
      ]
     },
     "metadata": {},
     "output_type": "display_data"
    },
    {
     "data": {
      "application/vnd.jupyter.widget-view+json": {
       "model_id": "849a74f136c14be990320b7169803124",
       "version_major": 2,
       "version_minor": 0
      },
      "text/plain": [
       "Epoch [44/60]:   0%|          | 0/50 [00:00<?, ?batch/s]"
      ]
     },
     "metadata": {},
     "output_type": "display_data"
    },
    {
     "name": "stdout",
     "output_type": "stream",
     "text": [
      "Epoch [44/60], train Loss: 0.1006, val Loss: 0.0980\n"
     ]
    },
    {
     "data": {
      "application/vnd.jupyter.widget-view+json": {
       "model_id": "6ac608b4fcca4020a6617ab1c569da7d",
       "version_major": 2,
       "version_minor": 0
      },
      "text/plain": [
       "Epoch [45/60]:   0%|          | 0/500 [00:00<?, ?batch/s]"
      ]
     },
     "metadata": {},
     "output_type": "display_data"
    },
    {
     "data": {
      "application/vnd.jupyter.widget-view+json": {
       "model_id": "77c92894cddf48738569c531ce55c579",
       "version_major": 2,
       "version_minor": 0
      },
      "text/plain": [
       "Epoch [45/60]:   0%|          | 0/50 [00:00<?, ?batch/s]"
      ]
     },
     "metadata": {},
     "output_type": "display_data"
    },
    {
     "name": "stdout",
     "output_type": "stream",
     "text": [
      "Epoch [45/60], train Loss: 0.1002, val Loss: 0.0986\n"
     ]
    },
    {
     "data": {
      "application/vnd.jupyter.widget-view+json": {
       "model_id": "3d7ba0b3578f423998603e7e85103eb4",
       "version_major": 2,
       "version_minor": 0
      },
      "text/plain": [
       "Epoch [46/60]:   0%|          | 0/500 [00:00<?, ?batch/s]"
      ]
     },
     "metadata": {},
     "output_type": "display_data"
    },
    {
     "data": {
      "application/vnd.jupyter.widget-view+json": {
       "model_id": "8ed40a3c057b4776bc48bfc2a4bca855",
       "version_major": 2,
       "version_minor": 0
      },
      "text/plain": [
       "Epoch [46/60]:   0%|          | 0/50 [00:00<?, ?batch/s]"
      ]
     },
     "metadata": {},
     "output_type": "display_data"
    },
    {
     "name": "stdout",
     "output_type": "stream",
     "text": [
      "Epoch [46/60], train Loss: 0.1010, val Loss: 0.0966\n"
     ]
    },
    {
     "data": {
      "application/vnd.jupyter.widget-view+json": {
       "model_id": "a9f2530c756749fbbdd19b9aa1649946",
       "version_major": 2,
       "version_minor": 0
      },
      "text/plain": [
       "Epoch [47/60]:   0%|          | 0/500 [00:00<?, ?batch/s]"
      ]
     },
     "metadata": {},
     "output_type": "display_data"
    },
    {
     "data": {
      "application/vnd.jupyter.widget-view+json": {
       "model_id": "5fd11cd3a0f843c39150f94e9041d9e8",
       "version_major": 2,
       "version_minor": 0
      },
      "text/plain": [
       "Epoch [47/60]:   0%|          | 0/50 [00:00<?, ?batch/s]"
      ]
     },
     "metadata": {},
     "output_type": "display_data"
    },
    {
     "name": "stdout",
     "output_type": "stream",
     "text": [
      "Epoch [47/60], train Loss: 0.1017, val Loss: 0.0953\n"
     ]
    },
    {
     "data": {
      "application/vnd.jupyter.widget-view+json": {
       "model_id": "9dc118890d154d6d82035323187463e6",
       "version_major": 2,
       "version_minor": 0
      },
      "text/plain": [
       "Epoch [48/60]:   0%|          | 0/500 [00:00<?, ?batch/s]"
      ]
     },
     "metadata": {},
     "output_type": "display_data"
    },
    {
     "data": {
      "application/vnd.jupyter.widget-view+json": {
       "model_id": "b518751dd0bc4ea78965a35671c6816d",
       "version_major": 2,
       "version_minor": 0
      },
      "text/plain": [
       "Epoch [48/60]:   0%|          | 0/50 [00:00<?, ?batch/s]"
      ]
     },
     "metadata": {},
     "output_type": "display_data"
    },
    {
     "name": "stdout",
     "output_type": "stream",
     "text": [
      "Epoch [48/60], train Loss: 0.1027, val Loss: 0.0991\n"
     ]
    },
    {
     "data": {
      "application/vnd.jupyter.widget-view+json": {
       "model_id": "75f9fdf1817946548767ad53924346d5",
       "version_major": 2,
       "version_minor": 0
      },
      "text/plain": [
       "Epoch [49/60]:   0%|          | 0/500 [00:00<?, ?batch/s]"
      ]
     },
     "metadata": {},
     "output_type": "display_data"
    },
    {
     "data": {
      "application/vnd.jupyter.widget-view+json": {
       "model_id": "e22c91bbfcfd42fe8165219366beb10e",
       "version_major": 2,
       "version_minor": 0
      },
      "text/plain": [
       "Epoch [49/60]:   0%|          | 0/50 [00:00<?, ?batch/s]"
      ]
     },
     "metadata": {},
     "output_type": "display_data"
    },
    {
     "name": "stdout",
     "output_type": "stream",
     "text": [
      "Epoch [49/60], train Loss: 0.1004, val Loss: 0.0989\n"
     ]
    },
    {
     "data": {
      "application/vnd.jupyter.widget-view+json": {
       "model_id": "5198147f5d8b4812afa6862a81c3739c",
       "version_major": 2,
       "version_minor": 0
      },
      "text/plain": [
       "Epoch [50/60]:   0%|          | 0/500 [00:00<?, ?batch/s]"
      ]
     },
     "metadata": {},
     "output_type": "display_data"
    },
    {
     "data": {
      "application/vnd.jupyter.widget-view+json": {
       "model_id": "f70e948371914ae589152070d2a9acdb",
       "version_major": 2,
       "version_minor": 0
      },
      "text/plain": [
       "Epoch [50/60]:   0%|          | 0/50 [00:00<?, ?batch/s]"
      ]
     },
     "metadata": {},
     "output_type": "display_data"
    },
    {
     "name": "stdout",
     "output_type": "stream",
     "text": [
      "Epoch [50/60], train Loss: 0.1012, val Loss: 0.1012\n"
     ]
    },
    {
     "data": {
      "application/vnd.jupyter.widget-view+json": {
       "model_id": "2c7ee40433b6409faee5e4b38b1fee6e",
       "version_major": 2,
       "version_minor": 0
      },
      "text/plain": [
       "Epoch [51/60]:   0%|          | 0/500 [00:00<?, ?batch/s]"
      ]
     },
     "metadata": {},
     "output_type": "display_data"
    },
    {
     "data": {
      "application/vnd.jupyter.widget-view+json": {
       "model_id": "e509d2f84ec4433ab75310e2e2925de7",
       "version_major": 2,
       "version_minor": 0
      },
      "text/plain": [
       "Epoch [51/60]:   0%|          | 0/50 [00:00<?, ?batch/s]"
      ]
     },
     "metadata": {},
     "output_type": "display_data"
    },
    {
     "name": "stdout",
     "output_type": "stream",
     "text": [
      "Epoch [51/60], train Loss: 0.0995, val Loss: 0.1006\n"
     ]
    },
    {
     "data": {
      "application/vnd.jupyter.widget-view+json": {
       "model_id": "878e1585fabe4f7389dd2149541551ff",
       "version_major": 2,
       "version_minor": 0
      },
      "text/plain": [
       "Epoch [52/60]:   0%|          | 0/500 [00:00<?, ?batch/s]"
      ]
     },
     "metadata": {},
     "output_type": "display_data"
    },
    {
     "data": {
      "application/vnd.jupyter.widget-view+json": {
       "model_id": "636f32a1576542fb84764d824812a3ba",
       "version_major": 2,
       "version_minor": 0
      },
      "text/plain": [
       "Epoch [52/60]:   0%|          | 0/50 [00:00<?, ?batch/s]"
      ]
     },
     "metadata": {},
     "output_type": "display_data"
    },
    {
     "name": "stdout",
     "output_type": "stream",
     "text": [
      "Epoch [52/60], train Loss: 0.0994, val Loss: 0.0922\n"
     ]
    },
    {
     "data": {
      "application/vnd.jupyter.widget-view+json": {
       "model_id": "bbf773b7fe5a4862b85359dcfcc731da",
       "version_major": 2,
       "version_minor": 0
      },
      "text/plain": [
       "Epoch [53/60]:   0%|          | 0/500 [00:00<?, ?batch/s]"
      ]
     },
     "metadata": {},
     "output_type": "display_data"
    },
    {
     "data": {
      "application/vnd.jupyter.widget-view+json": {
       "model_id": "d321bd8307b54ec8ba8064a5ab0baa04",
       "version_major": 2,
       "version_minor": 0
      },
      "text/plain": [
       "Epoch [53/60]:   0%|          | 0/50 [00:00<?, ?batch/s]"
      ]
     },
     "metadata": {},
     "output_type": "display_data"
    },
    {
     "name": "stdout",
     "output_type": "stream",
     "text": [
      "Epoch [53/60], train Loss: 0.0997, val Loss: 0.0994\n"
     ]
    },
    {
     "data": {
      "application/vnd.jupyter.widget-view+json": {
       "model_id": "cda27b364bf5438d9b89514922c0a912",
       "version_major": 2,
       "version_minor": 0
      },
      "text/plain": [
       "Epoch [54/60]:   0%|          | 0/500 [00:00<?, ?batch/s]"
      ]
     },
     "metadata": {},
     "output_type": "display_data"
    },
    {
     "data": {
      "application/vnd.jupyter.widget-view+json": {
       "model_id": "1a90c8722e154e808e1fbdfd6f95fffc",
       "version_major": 2,
       "version_minor": 0
      },
      "text/plain": [
       "Epoch [54/60]:   0%|          | 0/50 [00:00<?, ?batch/s]"
      ]
     },
     "metadata": {},
     "output_type": "display_data"
    },
    {
     "name": "stdout",
     "output_type": "stream",
     "text": [
      "Epoch [54/60], train Loss: 0.0996, val Loss: 0.1034\n"
     ]
    },
    {
     "data": {
      "application/vnd.jupyter.widget-view+json": {
       "model_id": "f0e4696bb50e48d1a0f52352ffc37196",
       "version_major": 2,
       "version_minor": 0
      },
      "text/plain": [
       "Epoch [55/60]:   0%|          | 0/500 [00:00<?, ?batch/s]"
      ]
     },
     "metadata": {},
     "output_type": "display_data"
    },
    {
     "data": {
      "application/vnd.jupyter.widget-view+json": {
       "model_id": "ecea48d1cb1e45f28dd0d95f2eefa5dc",
       "version_major": 2,
       "version_minor": 0
      },
      "text/plain": [
       "Epoch [55/60]:   0%|          | 0/50 [00:00<?, ?batch/s]"
      ]
     },
     "metadata": {},
     "output_type": "display_data"
    },
    {
     "name": "stdout",
     "output_type": "stream",
     "text": [
      "Epoch [55/60], train Loss: 0.1009, val Loss: 0.0985\n"
     ]
    },
    {
     "data": {
      "application/vnd.jupyter.widget-view+json": {
       "model_id": "2af09b4ede4f4671b1f917664cd4dcb1",
       "version_major": 2,
       "version_minor": 0
      },
      "text/plain": [
       "Epoch [56/60]:   0%|          | 0/500 [00:00<?, ?batch/s]"
      ]
     },
     "metadata": {},
     "output_type": "display_data"
    },
    {
     "data": {
      "application/vnd.jupyter.widget-view+json": {
       "model_id": "ab134a11a3bd47caaf533929a54db3b5",
       "version_major": 2,
       "version_minor": 0
      },
      "text/plain": [
       "Epoch [56/60]:   0%|          | 0/50 [00:00<?, ?batch/s]"
      ]
     },
     "metadata": {},
     "output_type": "display_data"
    },
    {
     "name": "stdout",
     "output_type": "stream",
     "text": [
      "Epoch [56/60], train Loss: 0.1019, val Loss: 0.0962\n"
     ]
    },
    {
     "data": {
      "application/vnd.jupyter.widget-view+json": {
       "model_id": "d3bd1f32fd51480caaffdc64d7853f4e",
       "version_major": 2,
       "version_minor": 0
      },
      "text/plain": [
       "Epoch [57/60]:   0%|          | 0/500 [00:00<?, ?batch/s]"
      ]
     },
     "metadata": {},
     "output_type": "display_data"
    },
    {
     "data": {
      "application/vnd.jupyter.widget-view+json": {
       "model_id": "6d4df23c2e1b4b7fac3ca36f34d77b04",
       "version_major": 2,
       "version_minor": 0
      },
      "text/plain": [
       "Epoch [57/60]:   0%|          | 0/50 [00:00<?, ?batch/s]"
      ]
     },
     "metadata": {},
     "output_type": "display_data"
    },
    {
     "name": "stdout",
     "output_type": "stream",
     "text": [
      "Epoch [57/60], train Loss: 0.1003, val Loss: 0.0967\n"
     ]
    },
    {
     "data": {
      "application/vnd.jupyter.widget-view+json": {
       "model_id": "f264df1f127749319d1e86df079989fd",
       "version_major": 2,
       "version_minor": 0
      },
      "text/plain": [
       "Epoch [58/60]:   0%|          | 0/500 [00:00<?, ?batch/s]"
      ]
     },
     "metadata": {},
     "output_type": "display_data"
    },
    {
     "data": {
      "application/vnd.jupyter.widget-view+json": {
       "model_id": "b58d334f31804938bd8788862cea345a",
       "version_major": 2,
       "version_minor": 0
      },
      "text/plain": [
       "Epoch [58/60]:   0%|          | 0/50 [00:00<?, ?batch/s]"
      ]
     },
     "metadata": {},
     "output_type": "display_data"
    },
    {
     "name": "stdout",
     "output_type": "stream",
     "text": [
      "Epoch [58/60], train Loss: 0.1015, val Loss: 0.1012\n"
     ]
    },
    {
     "data": {
      "application/vnd.jupyter.widget-view+json": {
       "model_id": "ab998068caa44197864a91401ab71d81",
       "version_major": 2,
       "version_minor": 0
      },
      "text/plain": [
       "Epoch [59/60]:   0%|          | 0/500 [00:00<?, ?batch/s]"
      ]
     },
     "metadata": {},
     "output_type": "display_data"
    },
    {
     "data": {
      "application/vnd.jupyter.widget-view+json": {
       "model_id": "df6d09d7daf346c8b8ae3b39843a50be",
       "version_major": 2,
       "version_minor": 0
      },
      "text/plain": [
       "Epoch [59/60]:   0%|          | 0/50 [00:00<?, ?batch/s]"
      ]
     },
     "metadata": {},
     "output_type": "display_data"
    },
    {
     "name": "stdout",
     "output_type": "stream",
     "text": [
      "Epoch [59/60], train Loss: 0.0985, val Loss: 0.0985\n"
     ]
    },
    {
     "data": {
      "application/vnd.jupyter.widget-view+json": {
       "model_id": "2549d8dd30f94a929416fe6af062957d",
       "version_major": 2,
       "version_minor": 0
      },
      "text/plain": [
       "Epoch [60/60]:   0%|          | 0/500 [00:00<?, ?batch/s]"
      ]
     },
     "metadata": {},
     "output_type": "display_data"
    },
    {
     "data": {
      "application/vnd.jupyter.widget-view+json": {
       "model_id": "f988285e93b7406299b4ae5dbe6c0f97",
       "version_major": 2,
       "version_minor": 0
      },
      "text/plain": [
       "Epoch [60/60]:   0%|          | 0/50 [00:00<?, ?batch/s]"
      ]
     },
     "metadata": {},
     "output_type": "display_data"
    },
    {
     "name": "stdout",
     "output_type": "stream",
     "text": [
      "Epoch [60/60], train Loss: 0.1003, val Loss: 0.0977\n"
     ]
    }
   ],
   "source": [
    "class pars(object):\n",
    "    def __init__(self):\n",
    "        # hyperparameters: learning\n",
    "        self.batch_size = 100\n",
    "        self.learning_rate = .001\n",
    "        self.num_epochs = 60\n",
    "\n",
    "        self.optimizer = optim.AdamW\n",
    "        self.lr_base_params = 0.01\n",
    "        self.lr_rho_params = 0.2\n",
    "\n",
    "        self.dataset = 'mnist'\n",
    "        self.train_size = 50000\n",
    "        self.val_size = 5000\n",
    "\n",
    "        self.n_steps = 200\n",
    "        self.min_beta = 0.0001\n",
    "        self.max_beta = 0.1\n",
    "\n",
    "        self.input_dim = 28*28\n",
    "        self.device = device\n",
    "        self.model_path= ''\n",
    "        self.model_type=ScoreNet_mu\n",
    "\n",
    "\n",
    "pars0=pars()\n",
    "diffusion,err_rates_train, err_rates_val=train(pars0)"
   ]
  },
  {
   "cell_type": "markdown",
   "id": "1e28bc33",
   "metadata": {},
   "source": [
    "## 1. (g) Sample imgs"
   ]
  },
  {
   "cell_type": "code",
   "execution_count": 44,
   "id": "f922fba2",
   "metadata": {
    "execution": {
     "iopub.execute_input": "2024-05-21T16:15:36.462900Z",
     "iopub.status.busy": "2024-05-21T16:15:36.462452Z",
     "iopub.status.idle": "2024-05-21T16:15:36.473216Z",
     "shell.execute_reply": "2024-05-21T16:15:36.472139Z",
     "shell.execute_reply.started": "2024-05-21T16:15:36.462863Z"
    }
   },
   "outputs": [],
   "source": [
    "def sample(diffusion,n):\n",
    "    diffusion.model.eval()\n",
    "    with torch.no_grad():\n",
    "        \n",
    "        x = torch.randn((n, 1, 28, 28)).to(diffusion.device)\n",
    "        \n",
    "        for i in tqdm(reversed(range(0, diffusion.n_steps)), position=1,total=diffusion.n_steps):\n",
    "            t = (torch.ones(n) * i).long().to(diffusion.device)\n",
    "            mu = diffusion.predict_next(x.float(), t)\n",
    "            alpha = diffusion.alpha[t][:, None, None, None]\n",
    "            eps = torch.randn_like(x)\n",
    "            x = mu+torch.sqrt(1-alpha)*eps\n",
    "\n",
    "    return x\n",
    "\n",
    "def resize_img(x):\n",
    "    x = (x.clamp(-1, 1) + 1) / 2\n",
    "    x = (x * 255).type(torch.uint8)\n",
    "    return x\n",
    "\n",
    "\n",
    "def plot_imgs(imgs):\n",
    "    plt.figure(figsize=(16, 12))\n",
    "    for j in range(len(imgs)):\n",
    "        plt.subplot(1, len(imgs), j+1)\n",
    "        plt.imshow(imgs[j],cmap='gray')\n",
    "        plt.axis('off')\n",
    "    plt.show()"
   ]
  },
  {
   "cell_type": "code",
   "execution_count": 75,
   "id": "0ba945ce",
   "metadata": {
    "execution": {
     "iopub.execute_input": "2024-05-21T16:43:44.393885Z",
     "iopub.status.busy": "2024-05-21T16:43:44.393226Z",
     "iopub.status.idle": "2024-05-21T16:43:49.573340Z",
     "shell.execute_reply": "2024-05-21T16:43:49.572025Z",
     "shell.execute_reply.started": "2024-05-21T16:43:44.393851Z"
    }
   },
   "outputs": [
    {
     "data": {
      "application/vnd.jupyter.widget-view+json": {
       "model_id": "fc4990cbf2814c2cb2a3bbfff9393287",
       "version_major": 2,
       "version_minor": 0
      },
      "text/plain": [
       "  0%|          | 0/200 [00:00<?, ?it/s]"
      ]
     },
     "metadata": {},
     "output_type": "display_data"
    },
    {
     "data": {
      "image/png": "[encoded data removed]",
      "text/plain": [
       "<Figure size 1600x1200 with 20 Axes>"
      ]
     },
     "metadata": {},
     "output_type": "display_data"
    }
   ],
   "source": [
    "sample_imgs=sample(diffusion,1000)\n",
    "resize_sample_imgs=resize_img(sample_imgs)\n",
    "sample_imgs=sample_imgs.squeeze(1).cpu().numpy()\n",
    "resize_sample_imgs=resize_sample_imgs.squeeze(1).cpu().numpy()\n",
    "\n",
    "plot_imgs(resize_sample_imgs[:20])"
   ]
  },
  {
   "cell_type": "markdown",
   "id": "b041018d",
   "metadata": {},
   "source": [
    "## 1.(h) Calculate FID"
   ]
  },
  {
   "cell_type": "code",
   "execution_count": 19,
   "id": "2050720e",
   "metadata": {
    "execution": {
     "iopub.execute_input": "2024-05-21T15:46:33.071487Z",
     "iopub.status.busy": "2024-05-21T15:46:33.071124Z",
     "iopub.status.idle": "2024-05-21T15:46:33.080875Z",
     "shell.execute_reply": "2024-05-21T15:46:33.079973Z",
     "shell.execute_reply.started": "2024-05-21T15:46:33.071459Z"
    }
   },
   "outputs": [],
   "source": [
    "def calculate_fid(Pg , Pd):\n",
    "    \"\"\"\n",
    "    Calculate the Fréchet Inception Distance (FID) between two data distributions.\n",
    "    \n",
    "    Args:\n",
    "        Pg (np.ndarray[2D]): Generated data distribution, where each row represents a data point.\n",
    "        Pd (np.ndarray[2D]): Test data distribution, where each row represents a data point.\n",
    "\n",
    "    \"\"\"\n",
    "    # Calculate the means of the data distributions\n",
    "    mu1 = np.mean(Pg, axis=0)  # Shape: (n_features,)\n",
    "    mu2 = np.mean(Pd, axis=0)  # Shape: (n_features,)\n",
    "    \n",
    "    # Calculate the covariance matrices of the data distributions\n",
    "    sigma1 = np.cov(Pg, rowvar=False)  # Shape: (n_features, n_features)\n",
    "    sigma2 = np.cov(Pd, rowvar=False)  # Shape: (n_features, n_features)\n",
    "    \n",
    "    # Calculate the squared Euclidean distance between the means\n",
    "    diff = mu1 - mu2\n",
    "    mean_term = np.dot(diff, diff)\n",
    "    \n",
    "    # Calculate the square root of the product of the covariance matrices\n",
    "    sqrt_sigma1 = sqrtm(sigma1)\n",
    "    sqrt_sigma2 = sqrtm(sigma2)\n",
    "    \n",
    "    cov_term = np.trace(sigma1 + sigma2 - 2 * sqrtm(sqrt_sigma1.dot(sigma2).dot(sqrt_sigma1)))\n",
    "    \n",
    "    # Calculate the FID\n",
    "    fid = mean_term + cov_term\n",
    "    \n",
    "    return fid\n",
    "\n",
    "def sqrtm(A):\n",
    "    \"\"\"\n",
    "    explicit computation of the square root of a positive definite symmetric matrix using spectral decomposition.\n",
    "    \"\"\"\n",
    "    # Perform spectral decomposition\n",
    "    eigenvalues, eigenvectors = np.linalg.eigh(A)\n",
    "    \n",
    "    # Ensure non-negative eigenvalues\n",
    "    eigenvalues = np.maximum(eigenvalues, 0)\n",
    "    \n",
    "    # Calculate the square root of the eigenvalues\n",
    "    sqrt_eigenvalues = np.sqrt(eigenvalues)\n",
    "    \n",
    "    # Reconstruct the square root of the matrix\n",
    "    sqrt_A = eigenvectors.dot(np.diag(sqrt_eigenvalues)).dot(eigenvectors.T)\n",
    "    \n",
    "    return sqrt_A"
   ]
  },
  {
   "cell_type": "code",
   "execution_count": 77,
   "id": "9523fc5d",
   "metadata": {
    "execution": {
     "iopub.execute_input": "2024-05-21T16:44:14.956525Z",
     "iopub.status.busy": "2024-05-21T16:44:14.955854Z",
     "iopub.status.idle": "2024-05-21T16:44:16.347517Z",
     "shell.execute_reply": "2024-05-21T16:44:16.346273Z",
     "shell.execute_reply.started": "2024-05-21T16:44:14.956492Z"
    }
   },
   "outputs": [
    {
     "data": {
      "text/plain": [
       "8.596437976852252"
      ]
     },
     "execution_count": 77,
     "metadata": {},
     "output_type": "execute_result"
    }
   ],
   "source": [
    "train, val, test = get_mnist(pars0.train_size, pars0.val_size)\n",
    "calculate_fid(sample_imgs.reshape(-1,784),train[0].reshape(-1,784))"
   ]
  },
  {
   "cell_type": "markdown",
   "id": "6ab8aed1",
   "metadata": {},
   "source": [
    "## 2.(a)(b)"
   ]
  },
  {
   "cell_type": "code",
   "execution_count": 67,
   "id": "e101ab1d",
   "metadata": {
    "execution": {
     "iopub.execute_input": "2024-05-21T16:37:02.241971Z",
     "iopub.status.busy": "2024-05-21T16:37:02.241311Z",
     "iopub.status.idle": "2024-05-21T16:37:02.252779Z",
     "shell.execute_reply": "2024-05-21T16:37:02.250391Z",
     "shell.execute_reply.started": "2024-05-21T16:37:02.241940Z"
    }
   },
   "outputs": [],
   "source": [
    "class Diffusion(nn.Module):\n",
    "    def __init__(self, model, n_steps, device, min_beta, max_beta):\n",
    "        super().__init__()\n",
    "        self.model = model\n",
    "        self.n_steps = n_steps\n",
    "        self.device = device\n",
    "\n",
    "        # Compute linear beta schedule\n",
    "        beta = torch.linspace(min_beta, max_beta, n_steps,\n",
    "                              dtype=torch.float64).to(device)\n",
    "\n",
    "        # Store beta, alpha, and alpha_bar\n",
    "        self.beta = beta\n",
    "        self.alpha = 1 - beta\n",
    "        self.alpha_bar = torch.cumprod(self.alpha, dim=0)\n",
    "\n",
    "    def forward_process(self, x0, t):\n",
    "        # Sample x_t given x_0\n",
    "        # get noised images\n",
    "        sqrt_alpha_bar = torch.sqrt(self.alpha_bar[t])[:, None, None, None]\n",
    "        sqrt_one_minus_alpha_bar = torch.sqrt(1 - self.alpha_bar[t])[:, None, None, None]\n",
    "        eps = torch.randn_like(x0)\n",
    "        # sample x_{t} from x0\n",
    "        xt = sqrt_alpha_bar * x0 + sqrt_one_minus_alpha_bar * eps\n",
    "        return xt.float(), eps.float()\n",
    "\n",
    "    def predict_next(self, xt, t):\n",
    "        mus=self.model(xt,t.unsqueeze(1))\n",
    "        return mus\n",
    "\n",
    "    def sample_timesteps(self, n):\n",
    "        return torch.randint(low=1, high=self.n_steps, size=(n,))"
   ]
  },
  {
   "cell_type": "code",
   "execution_count": 68,
   "id": "8ab141a3",
   "metadata": {
    "execution": {
     "iopub.execute_input": "2024-05-21T16:37:02.636036Z",
     "iopub.status.busy": "2024-05-21T16:37:02.635411Z",
     "iopub.status.idle": "2024-05-21T16:37:02.655364Z",
     "shell.execute_reply": "2024-05-21T16:37:02.654362Z",
     "shell.execute_reply.started": "2024-05-21T16:37:02.635984Z"
    }
   },
   "outputs": [],
   "source": [
    "def testt(epoch,pars, diffusion, val_loader, ttype='val'):\n",
    "    diffusion.model.eval()\n",
    "    with torch.no_grad():\n",
    "        device = pars.device\n",
    "        epoch_loss = 0.0\n",
    "        val_bar = tqdm(val_loader, desc=f\"Epoch [{epoch + 1}/{pars.num_epochs}]\", unit=\"batch\")\n",
    "        for data, _ in val_bar:\n",
    "            data = data.to(device)\n",
    "            t = diffusion.sample_timesteps(data.shape[0]).to(device)\n",
    "            xt, noise = diffusion.forward_process(data, t)\n",
    "            predicted_noise = diffusion.predict_next(xt, t)\n",
    "            loss = nn.MSELoss()(predicted_noise,noise)\n",
    "            epoch_loss += loss.item()\n",
    "\n",
    "        epoch_loss /= len(val_loader)\n",
    "    return epoch_loss\n",
    "\n",
    "\n",
    "def train(pars):\n",
    "    device = pars.device\n",
    "    if pars.dataset == 'mnist':\n",
    "        train, val, test = get_mnist(pars.train_size, pars.val_size)\n",
    "        \n",
    "        # Create TensorDataset for train and validation data\n",
    "        train_dataset = TensorDataset(torch.from_numpy(train[0]), torch.from_numpy(train[1]))\n",
    "        val_dataset = TensorDataset(torch.from_numpy(val[0]), torch.from_numpy(val[1]))\n",
    "        \n",
    "        # Create DataLoader for train and validation datasets\n",
    "        train_loader = DataLoader(train_dataset, batch_size=pars.batch_size, shuffle=True, num_workers=4, pin_memory=True)\n",
    "        val_loader = DataLoader(val_dataset, batch_size=pars.batch_size, shuffle=False, num_workers=4, pin_memory=True)\n",
    "\n",
    "    if not pars.model_path:\n",
    "        model = pars.model_type().to(device)\n",
    "    else:\n",
    "        model = torch.load(model_path).to(device)\n",
    "    \n",
    "    optimizer = pars.optimizer(model.parameters(), lr=pars.lr)\n",
    "\n",
    "    diffusion = Diffusion(model=model, n_steps=pars.n_steps, device=device, min_beta=pars.min_beta,\n",
    "                          max_beta=pars.max_beta)\n",
    "\n",
    "    writer = SummaryWriter()\n",
    "    epoch_loss_list, epoch_loss_val_list = [], []\n",
    "    best_val_loss = float('inf')\n",
    "    best_model = None\n",
    "\n",
    "    for epoch in range(pars.num_epochs):\n",
    "        epoch_loss = 0.0\n",
    "        train_bar = tqdm(train_loader, desc=f\"Epoch [{epoch + 1}/{pars.num_epochs}]\", unit=\"batch\")\n",
    "        for data, _ in train_bar:\n",
    "            data = data.to(device)\n",
    "            t = diffusion.sample_timesteps(data.shape[0]).to(device)\n",
    "            xt, noise = diffusion.forward_process(data, t)\n",
    "            predicted_noise = diffusion.predict_next(xt, t)\n",
    "            loss = nn.MSELoss()(predicted_noise,noise)\n",
    "\n",
    "            optimizer.zero_grad()\n",
    "            loss.backward()\n",
    "            optimizer.step()\n",
    "            epoch_loss += loss.item()\n",
    "\n",
    "        # Reduce learning rate by a factor of 10 every 20 epochs\n",
    "        if (epoch + 1) % 20 == 0:\n",
    "            for param_group in optimizer.param_groups:\n",
    "                param_group['lr'] *= 0.1\n",
    "\n",
    "        epoch_loss /= len(train_loader)\n",
    "        epoch_loss_val = testt(epoch,pars, diffusion,val_loader,'val')\n",
    "        epoch_loss_list.append(epoch_loss)\n",
    "        epoch_loss_val_list.append(epoch_loss_val)\n",
    "\n",
    "        writer.add_scalar('train/loss', epoch_loss, epoch)\n",
    "        writer.add_scalar('val/loss', epoch_loss_val, epoch)\n",
    "        \n",
    "        for i, param_group in enumerate(optimizer.param_groups):\n",
    "            writer.add_scalar(f'learning_rate/group_{i}', param_group['lr'], epoch)\n",
    "        \n",
    "        print(f\"Epoch [{epoch + 1}/{pars.num_epochs}], train Loss: {epoch_loss:.4f}\", end=\", \")\n",
    "        print(f'val Loss: {epoch_loss_val:.4f}')\n",
    "\n",
    "        # Keep track of the best model based on validation loss\n",
    "        if epoch_loss_val < best_val_loss:\n",
    "            best_val_loss = epoch_loss_val\n",
    "            best_model = diffusion.model.state_dict()\n",
    "\n",
    "    # Save the best model\n",
    "    torch.save(best_model, '/kaggle/working/best_model_ScoreNet_noise.pth')\n",
    "    # Load the best model parameters into the model\n",
    "    diffusion.model.load_state_dict(best_model)\n",
    "    return diffusion,epoch_loss_list,epoch_loss_val_list\n"
   ]
  },
  {
   "cell_type": "code",
   "execution_count": 46,
   "id": "d7ba772c",
   "metadata": {
    "execution": {
     "iopub.execute_input": "2024-05-21T16:16:05.161955Z",
     "iopub.status.busy": "2024-05-21T16:16:05.161612Z",
     "iopub.status.idle": "2024-05-21T16:21:50.914901Z",
     "shell.execute_reply": "2024-05-21T16:21:50.913782Z",
     "shell.execute_reply.started": "2024-05-21T16:16:05.161930Z"
    }
   },
   "outputs": [
    {
     "data": {
      "application/vnd.jupyter.widget-view+json": {
       "model_id": "24471b0b7500420b8294f8730382ecc5",
       "version_major": 2,
       "version_minor": 0
      },
      "text/plain": [
       "Epoch [1/60]:   0%|          | 0/500 [00:00<?, ?batch/s]"
      ]
     },
     "metadata": {},
     "output_type": "display_data"
    },
    {
     "data": {
      "application/vnd.jupyter.widget-view+json": {
       "model_id": "15a7a2dc8c294831b099a4c2f27d1130",
       "version_major": 2,
       "version_minor": 0
      },
      "text/plain": [
       "Epoch [1/60]:   0%|          | 0/50 [00:00<?, ?batch/s]"
      ]
     },
     "metadata": {},
     "output_type": "display_data"
    },
    {
     "name": "stdout",
     "output_type": "stream",
     "text": [
      "Epoch [1/60], train Loss: 0.2981, val Loss: 0.1135\n"
     ]
    },
    {
     "data": {
      "application/vnd.jupyter.widget-view+json": {
       "model_id": "4ec6e410ed5342b19360af0e91f42c86",
       "version_major": 2,
       "version_minor": 0
      },
      "text/plain": [
       "Epoch [2/60]:   0%|          | 0/500 [00:00<?, ?batch/s]"
      ]
     },
     "metadata": {},
     "output_type": "display_data"
    },
    {
     "data": {
      "application/vnd.jupyter.widget-view+json": {
       "model_id": "41b4f8e3672e4d1fa28fdc0f34187ca3",
       "version_major": 2,
       "version_minor": 0
      },
      "text/plain": [
       "Epoch [2/60]:   0%|          | 0/50 [00:00<?, ?batch/s]"
      ]
     },
     "metadata": {},
     "output_type": "display_data"
    },
    {
     "name": "stdout",
     "output_type": "stream",
     "text": [
      "Epoch [2/60], train Loss: 0.0784, val Loss: 0.0570\n"
     ]
    },
    {
     "data": {
      "application/vnd.jupyter.widget-view+json": {
       "model_id": "b3dab2abc65043a9bc76fc860c463fdc",
       "version_major": 2,
       "version_minor": 0
      },
      "text/plain": [
       "Epoch [3/60]:   0%|          | 0/500 [00:00<?, ?batch/s]"
      ]
     },
     "metadata": {},
     "output_type": "display_data"
    },
    {
     "data": {
      "application/vnd.jupyter.widget-view+json": {
       "model_id": "7276603423bf45bfb3e9c52435dc5c8c",
       "version_major": 2,
       "version_minor": 0
      },
      "text/plain": [
       "Epoch [3/60]:   0%|          | 0/50 [00:00<?, ?batch/s]"
      ]
     },
     "metadata": {},
     "output_type": "display_data"
    },
    {
     "name": "stdout",
     "output_type": "stream",
     "text": [
      "Epoch [3/60], train Loss: 0.0491, val Loss: 0.0413\n"
     ]
    },
    {
     "data": {
      "application/vnd.jupyter.widget-view+json": {
       "model_id": "668aa76be445408ea25de0ef084f05d6",
       "version_major": 2,
       "version_minor": 0
      },
      "text/plain": [
       "Epoch [4/60]:   0%|          | 0/500 [00:00<?, ?batch/s]"
      ]
     },
     "metadata": {},
     "output_type": "display_data"
    },
    {
     "data": {
      "application/vnd.jupyter.widget-view+json": {
       "model_id": "7ecfb2d6c39749ce8df09a4b0e9e7215",
       "version_major": 2,
       "version_minor": 0
      },
      "text/plain": [
       "Epoch [4/60]:   0%|          | 0/50 [00:00<?, ?batch/s]"
      ]
     },
     "metadata": {},
     "output_type": "display_data"
    },
    {
     "name": "stdout",
     "output_type": "stream",
     "text": [
      "Epoch [4/60], train Loss: 0.0412, val Loss: 0.0383\n"
     ]
    },
    {
     "data": {
      "application/vnd.jupyter.widget-view+json": {
       "model_id": "8dbe703393754e42b334058f934c0c2f",
       "version_major": 2,
       "version_minor": 0
      },
      "text/plain": [
       "Epoch [5/60]:   0%|          | 0/500 [00:00<?, ?batch/s]"
      ]
     },
     "metadata": {},
     "output_type": "display_data"
    },
    {
     "data": {
      "application/vnd.jupyter.widget-view+json": {
       "model_id": "6e72103307ba444a8070b2680ad6598e",
       "version_major": 2,
       "version_minor": 0
      },
      "text/plain": [
       "Epoch [5/60]:   0%|          | 0/50 [00:00<?, ?batch/s]"
      ]
     },
     "metadata": {},
     "output_type": "display_data"
    },
    {
     "name": "stdout",
     "output_type": "stream",
     "text": [
      "Epoch [5/60], train Loss: 0.0377, val Loss: 0.0399\n"
     ]
    },
    {
     "data": {
      "application/vnd.jupyter.widget-view+json": {
       "model_id": "ab8f0f1b42ac46e3a7efe3c8ac7621ec",
       "version_major": 2,
       "version_minor": 0
      },
      "text/plain": [
       "Epoch [6/60]:   0%|          | 0/500 [00:00<?, ?batch/s]"
      ]
     },
     "metadata": {},
     "output_type": "display_data"
    },
    {
     "data": {
      "application/vnd.jupyter.widget-view+json": {
       "model_id": "8bf782cbaed14f3280846304a7623e79",
       "version_major": 2,
       "version_minor": 0
      },
      "text/plain": [
       "Epoch [6/60]:   0%|          | 0/50 [00:00<?, ?batch/s]"
      ]
     },
     "metadata": {},
     "output_type": "display_data"
    },
    {
     "name": "stdout",
     "output_type": "stream",
     "text": [
      "Epoch [6/60], train Loss: 0.0362, val Loss: 0.0328\n"
     ]
    },
    {
     "data": {
      "application/vnd.jupyter.widget-view+json": {
       "model_id": "5e7b1b9859ed4502a8c52930252afe97",
       "version_major": 2,
       "version_minor": 0
      },
      "text/plain": [
       "Epoch [7/60]:   0%|          | 0/500 [00:00<?, ?batch/s]"
      ]
     },
     "metadata": {},
     "output_type": "display_data"
    },
    {
     "data": {
      "application/vnd.jupyter.widget-view+json": {
       "model_id": "74d205963b444e6196206d11dcfd1450",
       "version_major": 2,
       "version_minor": 0
      },
      "text/plain": [
       "Epoch [7/60]:   0%|          | 0/50 [00:00<?, ?batch/s]"
      ]
     },
     "metadata": {},
     "output_type": "display_data"
    },
    {
     "name": "stdout",
     "output_type": "stream",
     "text": [
      "Epoch [7/60], train Loss: 0.0345, val Loss: 0.0359\n"
     ]
    },
    {
     "data": {
      "application/vnd.jupyter.widget-view+json": {
       "model_id": "7dd3ca0409f04162b798b532cc028735",
       "version_major": 2,
       "version_minor": 0
      },
      "text/plain": [
       "Epoch [8/60]:   0%|          | 0/500 [00:00<?, ?batch/s]"
      ]
     },
     "metadata": {},
     "output_type": "display_data"
    },
    {
     "data": {
      "application/vnd.jupyter.widget-view+json": {
       "model_id": "3c9944b2b5da4e9284967f8804bcb226",
       "version_major": 2,
       "version_minor": 0
      },
      "text/plain": [
       "Epoch [8/60]:   0%|          | 0/50 [00:00<?, ?batch/s]"
      ]
     },
     "metadata": {},
     "output_type": "display_data"
    },
    {
     "name": "stdout",
     "output_type": "stream",
     "text": [
      "Epoch [8/60], train Loss: 0.0323, val Loss: 0.0304\n"
     ]
    },
    {
     "data": {
      "application/vnd.jupyter.widget-view+json": {
       "model_id": "63522d50813c49f9abf17ca5cd478f5d",
       "version_major": 2,
       "version_minor": 0
      },
      "text/plain": [
       "Epoch [9/60]:   0%|          | 0/500 [00:00<?, ?batch/s]"
      ]
     },
     "metadata": {},
     "output_type": "display_data"
    },
    {
     "data": {
      "application/vnd.jupyter.widget-view+json": {
       "model_id": "e6c10e3ca3044093b9acf65c74aa4809",
       "version_major": 2,
       "version_minor": 0
      },
      "text/plain": [
       "Epoch [9/60]:   0%|          | 0/50 [00:00<?, ?batch/s]"
      ]
     },
     "metadata": {},
     "output_type": "display_data"
    },
    {
     "name": "stdout",
     "output_type": "stream",
     "text": [
      "Epoch [9/60], train Loss: 0.0316, val Loss: 0.0313\n"
     ]
    },
    {
     "data": {
      "application/vnd.jupyter.widget-view+json": {
       "model_id": "922a34723a8644dfb128cc50c6856a95",
       "version_major": 2,
       "version_minor": 0
      },
      "text/plain": [
       "Epoch [10/60]:   0%|          | 0/500 [00:00<?, ?batch/s]"
      ]
     },
     "metadata": {},
     "output_type": "display_data"
    },
    {
     "data": {
      "application/vnd.jupyter.widget-view+json": {
       "model_id": "704ee741069b47e3b13fd8a51e8a0ac8",
       "version_major": 2,
       "version_minor": 0
      },
      "text/plain": [
       "Epoch [10/60]:   0%|          | 0/50 [00:00<?, ?batch/s]"
      ]
     },
     "metadata": {},
     "output_type": "display_data"
    },
    {
     "name": "stdout",
     "output_type": "stream",
     "text": [
      "Epoch [10/60], train Loss: 0.0305, val Loss: 0.0292\n"
     ]
    },
    {
     "data": {
      "application/vnd.jupyter.widget-view+json": {
       "model_id": "7d2f13af2aba41789901d739952befa7",
       "version_major": 2,
       "version_minor": 0
      },
      "text/plain": [
       "Epoch [11/60]:   0%|          | 0/500 [00:00<?, ?batch/s]"
      ]
     },
     "metadata": {},
     "output_type": "display_data"
    },
    {
     "data": {
      "application/vnd.jupyter.widget-view+json": {
       "model_id": "001aaf4334cb456ca086dd3542bd2481",
       "version_major": 2,
       "version_minor": 0
      },
      "text/plain": [
       "Epoch [11/60]:   0%|          | 0/50 [00:00<?, ?batch/s]"
      ]
     },
     "metadata": {},
     "output_type": "display_data"
    },
    {
     "name": "stdout",
     "output_type": "stream",
     "text": [
      "Epoch [11/60], train Loss: 0.0294, val Loss: 0.0287\n"
     ]
    },
    {
     "data": {
      "application/vnd.jupyter.widget-view+json": {
       "model_id": "04cb10008ab84e81bc6750c008bb5d2f",
       "version_major": 2,
       "version_minor": 0
      },
      "text/plain": [
       "Epoch [12/60]:   0%|          | 0/500 [00:00<?, ?batch/s]"
      ]
     },
     "metadata": {},
     "output_type": "display_data"
    },
    {
     "data": {
      "application/vnd.jupyter.widget-view+json": {
       "model_id": "ab3095bdcb1f4d2f80253ac379fa131c",
       "version_major": 2,
       "version_minor": 0
      },
      "text/plain": [
       "Epoch [12/60]:   0%|          | 0/50 [00:00<?, ?batch/s]"
      ]
     },
     "metadata": {},
     "output_type": "display_data"
    },
    {
     "name": "stdout",
     "output_type": "stream",
     "text": [
      "Epoch [12/60], train Loss: 0.0290, val Loss: 0.0354\n"
     ]
    },
    {
     "data": {
      "application/vnd.jupyter.widget-view+json": {
       "model_id": "4abcf6918cab493a91f3a89c889cc0a3",
       "version_major": 2,
       "version_minor": 0
      },
      "text/plain": [
       "Epoch [13/60]:   0%|          | 0/500 [00:00<?, ?batch/s]"
      ]
     },
     "metadata": {},
     "output_type": "display_data"
    },
    {
     "data": {
      "application/vnd.jupyter.widget-view+json": {
       "model_id": "f10f501f15ce4da9a2d658daf9c3540e",
       "version_major": 2,
       "version_minor": 0
      },
      "text/plain": [
       "Epoch [13/60]:   0%|          | 0/50 [00:00<?, ?batch/s]"
      ]
     },
     "metadata": {},
     "output_type": "display_data"
    },
    {
     "name": "stdout",
     "output_type": "stream",
     "text": [
      "Epoch [13/60], train Loss: 0.0295, val Loss: 0.0265\n"
     ]
    },
    {
     "data": {
      "application/vnd.jupyter.widget-view+json": {
       "model_id": "f3e331f684a04d28869a4c0c736c0783",
       "version_major": 2,
       "version_minor": 0
      },
      "text/plain": [
       "Epoch [14/60]:   0%|          | 0/500 [00:00<?, ?batch/s]"
      ]
     },
     "metadata": {},
     "output_type": "display_data"
    },
    {
     "data": {
      "application/vnd.jupyter.widget-view+json": {
       "model_id": "23923f0dfa944790bf92cf2b06b15210",
       "version_major": 2,
       "version_minor": 0
      },
      "text/plain": [
       "Epoch [14/60]:   0%|          | 0/50 [00:00<?, ?batch/s]"
      ]
     },
     "metadata": {},
     "output_type": "display_data"
    },
    {
     "name": "stdout",
     "output_type": "stream",
     "text": [
      "Epoch [14/60], train Loss: 0.0272, val Loss: 0.0268\n"
     ]
    },
    {
     "data": {
      "application/vnd.jupyter.widget-view+json": {
       "model_id": "66b1c22be2aa467e8001a7fdfb43b5ff",
       "version_major": 2,
       "version_minor": 0
      },
      "text/plain": [
       "Epoch [15/60]:   0%|          | 0/500 [00:00<?, ?batch/s]"
      ]
     },
     "metadata": {},
     "output_type": "display_data"
    },
    {
     "data": {
      "application/vnd.jupyter.widget-view+json": {
       "model_id": "036eab4ab612486087f7938d602f2baf",
       "version_major": 2,
       "version_minor": 0
      },
      "text/plain": [
       "Epoch [15/60]:   0%|          | 0/50 [00:00<?, ?batch/s]"
      ]
     },
     "metadata": {},
     "output_type": "display_data"
    },
    {
     "name": "stdout",
     "output_type": "stream",
     "text": [
      "Epoch [15/60], train Loss: 0.0294, val Loss: 0.0305\n"
     ]
    },
    {
     "data": {
      "application/vnd.jupyter.widget-view+json": {
       "model_id": "00b11f679b97483dbc198199c95b6d2a",
       "version_major": 2,
       "version_minor": 0
      },
      "text/plain": [
       "Epoch [16/60]:   0%|          | 0/500 [00:00<?, ?batch/s]"
      ]
     },
     "metadata": {},
     "output_type": "display_data"
    },
    {
     "data": {
      "application/vnd.jupyter.widget-view+json": {
       "model_id": "b8f8457ac38e4ae6b74018e6fd788566",
       "version_major": 2,
       "version_minor": 0
      },
      "text/plain": [
       "Epoch [16/60]:   0%|          | 0/50 [00:00<?, ?batch/s]"
      ]
     },
     "metadata": {},
     "output_type": "display_data"
    },
    {
     "name": "stdout",
     "output_type": "stream",
     "text": [
      "Epoch [16/60], train Loss: 0.0287, val Loss: 0.0264\n"
     ]
    },
    {
     "data": {
      "application/vnd.jupyter.widget-view+json": {
       "model_id": "aa16d58e36724891b184b0ebbef460bb",
       "version_major": 2,
       "version_minor": 0
      },
      "text/plain": [
       "Epoch [17/60]:   0%|          | 0/500 [00:00<?, ?batch/s]"
      ]
     },
     "metadata": {},
     "output_type": "display_data"
    },
    {
     "data": {
      "application/vnd.jupyter.widget-view+json": {
       "model_id": "2933b5a2857942d4bcec0547f7f4e788",
       "version_major": 2,
       "version_minor": 0
      },
      "text/plain": [
       "Epoch [17/60]:   0%|          | 0/50 [00:00<?, ?batch/s]"
      ]
     },
     "metadata": {},
     "output_type": "display_data"
    },
    {
     "name": "stdout",
     "output_type": "stream",
     "text": [
      "Epoch [17/60], train Loss: 0.0260, val Loss: 0.0255\n"
     ]
    },
    {
     "data": {
      "application/vnd.jupyter.widget-view+json": {
       "model_id": "dbf815405daf4ff18d6c2b9525f47e3d",
       "version_major": 2,
       "version_minor": 0
      },
      "text/plain": [
       "Epoch [18/60]:   0%|          | 0/500 [00:00<?, ?batch/s]"
      ]
     },
     "metadata": {},
     "output_type": "display_data"
    },
    {
     "data": {
      "application/vnd.jupyter.widget-view+json": {
       "model_id": "d1b100fb017b4a638d326b7a33c1cf03",
       "version_major": 2,
       "version_minor": 0
      },
      "text/plain": [
       "Epoch [18/60]:   0%|          | 0/50 [00:00<?, ?batch/s]"
      ]
     },
     "metadata": {},
     "output_type": "display_data"
    },
    {
     "name": "stdout",
     "output_type": "stream",
     "text": [
      "Epoch [18/60], train Loss: 0.0262, val Loss: 0.0263\n"
     ]
    },
    {
     "data": {
      "application/vnd.jupyter.widget-view+json": {
       "model_id": "55c623b298254d8c9b45c6e3a14467b7",
       "version_major": 2,
       "version_minor": 0
      },
      "text/plain": [
       "Epoch [19/60]:   0%|          | 0/500 [00:00<?, ?batch/s]"
      ]
     },
     "metadata": {},
     "output_type": "display_data"
    },
    {
     "data": {
      "application/vnd.jupyter.widget-view+json": {
       "model_id": "00e6ce95e1fc492f84a9d95e229d12f0",
       "version_major": 2,
       "version_minor": 0
      },
      "text/plain": [
       "Epoch [19/60]:   0%|          | 0/50 [00:00<?, ?batch/s]"
      ]
     },
     "metadata": {},
     "output_type": "display_data"
    },
    {
     "name": "stdout",
     "output_type": "stream",
     "text": [
      "Epoch [19/60], train Loss: 0.0316, val Loss: 0.0401\n"
     ]
    },
    {
     "data": {
      "application/vnd.jupyter.widget-view+json": {
       "model_id": "42b22ab565fa4b5783ddd6e70afb232a",
       "version_major": 2,
       "version_minor": 0
      },
      "text/plain": [
       "Epoch [20/60]:   0%|          | 0/500 [00:00<?, ?batch/s]"
      ]
     },
     "metadata": {},
     "output_type": "display_data"
    },
    {
     "data": {
      "application/vnd.jupyter.widget-view+json": {
       "model_id": "688e31a54e6b4e41af33b5f66694fd39",
       "version_major": 2,
       "version_minor": 0
      },
      "text/plain": [
       "Epoch [20/60]:   0%|          | 0/50 [00:00<?, ?batch/s]"
      ]
     },
     "metadata": {},
     "output_type": "display_data"
    },
    {
     "name": "stdout",
     "output_type": "stream",
     "text": [
      "Epoch [20/60], train Loss: 0.0317, val Loss: 0.0269\n"
     ]
    },
    {
     "data": {
      "application/vnd.jupyter.widget-view+json": {
       "model_id": "5923198d89604704ac5278dca9c3f0af",
       "version_major": 2,
       "version_minor": 0
      },
      "text/plain": [
       "Epoch [21/60]:   0%|          | 0/500 [00:00<?, ?batch/s]"
      ]
     },
     "metadata": {},
     "output_type": "display_data"
    },
    {
     "data": {
      "application/vnd.jupyter.widget-view+json": {
       "model_id": "282837ce458b4e66b9ee01b3114d4b2e",
       "version_major": 2,
       "version_minor": 0
      },
      "text/plain": [
       "Epoch [21/60]:   0%|          | 0/50 [00:00<?, ?batch/s]"
      ]
     },
     "metadata": {},
     "output_type": "display_data"
    },
    {
     "name": "stdout",
     "output_type": "stream",
     "text": [
      "Epoch [21/60], train Loss: 0.0247, val Loss: 0.0231\n"
     ]
    },
    {
     "data": {
      "application/vnd.jupyter.widget-view+json": {
       "model_id": "dbe8b6b531d54aa08bc9468a56f0fc09",
       "version_major": 2,
       "version_minor": 0
      },
      "text/plain": [
       "Epoch [22/60]:   0%|          | 0/500 [00:00<?, ?batch/s]"
      ]
     },
     "metadata": {},
     "output_type": "display_data"
    },
    {
     "data": {
      "application/vnd.jupyter.widget-view+json": {
       "model_id": "d6b7176be559478e963a0eff2d928dc3",
       "version_major": 2,
       "version_minor": 0
      },
      "text/plain": [
       "Epoch [22/60]:   0%|          | 0/50 [00:00<?, ?batch/s]"
      ]
     },
     "metadata": {},
     "output_type": "display_data"
    },
    {
     "name": "stdout",
     "output_type": "stream",
     "text": [
      "Epoch [22/60], train Loss: 0.0239, val Loss: 0.0233\n"
     ]
    },
    {
     "data": {
      "application/vnd.jupyter.widget-view+json": {
       "model_id": "4af212d0d533461793162d82b24e17be",
       "version_major": 2,
       "version_minor": 0
      },
      "text/plain": [
       "Epoch [23/60]:   0%|          | 0/500 [00:00<?, ?batch/s]"
      ]
     },
     "metadata": {},
     "output_type": "display_data"
    },
    {
     "data": {
      "application/vnd.jupyter.widget-view+json": {
       "model_id": "88184241c46c4f3c8a08f7ae1ed28293",
       "version_major": 2,
       "version_minor": 0
      },
      "text/plain": [
       "Epoch [23/60]:   0%|          | 0/50 [00:00<?, ?batch/s]"
      ]
     },
     "metadata": {},
     "output_type": "display_data"
    },
    {
     "name": "stdout",
     "output_type": "stream",
     "text": [
      "Epoch [23/60], train Loss: 0.0233, val Loss: 0.0234\n"
     ]
    },
    {
     "data": {
      "application/vnd.jupyter.widget-view+json": {
       "model_id": "530a401839ca4d59a916cedbca4cacec",
       "version_major": 2,
       "version_minor": 0
      },
      "text/plain": [
       "Epoch [24/60]:   0%|          | 0/500 [00:00<?, ?batch/s]"
      ]
     },
     "metadata": {},
     "output_type": "display_data"
    },
    {
     "data": {
      "application/vnd.jupyter.widget-view+json": {
       "model_id": "f0c42d8efb294e2a851fa879fdbbbe66",
       "version_major": 2,
       "version_minor": 0
      },
      "text/plain": [
       "Epoch [24/60]:   0%|          | 0/50 [00:00<?, ?batch/s]"
      ]
     },
     "metadata": {},
     "output_type": "display_data"
    },
    {
     "name": "stdout",
     "output_type": "stream",
     "text": [
      "Epoch [24/60], train Loss: 0.0228, val Loss: 0.0223\n"
     ]
    },
    {
     "data": {
      "application/vnd.jupyter.widget-view+json": {
       "model_id": "c340adeb784144d0b5826cb878eca0fe",
       "version_major": 2,
       "version_minor": 0
      },
      "text/plain": [
       "Epoch [25/60]:   0%|          | 0/500 [00:00<?, ?batch/s]"
      ]
     },
     "metadata": {},
     "output_type": "display_data"
    },
    {
     "data": {
      "application/vnd.jupyter.widget-view+json": {
       "model_id": "8c3042a51146482c8ce9ee9f13c8642f",
       "version_major": 2,
       "version_minor": 0
      },
      "text/plain": [
       "Epoch [25/60]:   0%|          | 0/50 [00:00<?, ?batch/s]"
      ]
     },
     "metadata": {},
     "output_type": "display_data"
    },
    {
     "name": "stdout",
     "output_type": "stream",
     "text": [
      "Epoch [25/60], train Loss: 0.0224, val Loss: 0.0216\n"
     ]
    },
    {
     "data": {
      "application/vnd.jupyter.widget-view+json": {
       "model_id": "63687284d24e49e6bba8083459af12f4",
       "version_major": 2,
       "version_minor": 0
      },
      "text/plain": [
       "Epoch [26/60]:   0%|          | 0/500 [00:00<?, ?batch/s]"
      ]
     },
     "metadata": {},
     "output_type": "display_data"
    },
    {
     "data": {
      "application/vnd.jupyter.widget-view+json": {
       "model_id": "9077af9b14e74a08b932876dbfdd7a3c",
       "version_major": 2,
       "version_minor": 0
      },
      "text/plain": [
       "Epoch [26/60]:   0%|          | 0/50 [00:00<?, ?batch/s]"
      ]
     },
     "metadata": {},
     "output_type": "display_data"
    },
    {
     "name": "stdout",
     "output_type": "stream",
     "text": [
      "Epoch [26/60], train Loss: 0.0216, val Loss: 0.0214\n"
     ]
    },
    {
     "data": {
      "application/vnd.jupyter.widget-view+json": {
       "model_id": "ada5b30bebe44c028600a6144afa6d84",
       "version_major": 2,
       "version_minor": 0
      },
      "text/plain": [
       "Epoch [27/60]:   0%|          | 0/500 [00:00<?, ?batch/s]"
      ]
     },
     "metadata": {},
     "output_type": "display_data"
    },
    {
     "data": {
      "application/vnd.jupyter.widget-view+json": {
       "model_id": "cacafe6988ad40fd944ff1b3e73b3074",
       "version_major": 2,
       "version_minor": 0
      },
      "text/plain": [
       "Epoch [27/60]:   0%|          | 0/50 [00:00<?, ?batch/s]"
      ]
     },
     "metadata": {},
     "output_type": "display_data"
    },
    {
     "name": "stdout",
     "output_type": "stream",
     "text": [
      "Epoch [27/60], train Loss: 0.0215, val Loss: 0.0213\n"
     ]
    },
    {
     "data": {
      "application/vnd.jupyter.widget-view+json": {
       "model_id": "7f357feb29794f6695dced846e25fde0",
       "version_major": 2,
       "version_minor": 0
      },
      "text/plain": [
       "Epoch [28/60]:   0%|          | 0/500 [00:00<?, ?batch/s]"
      ]
     },
     "metadata": {},
     "output_type": "display_data"
    },
    {
     "data": {
      "application/vnd.jupyter.widget-view+json": {
       "model_id": "359e29e1783f422fb2d8cc700007e8d9",
       "version_major": 2,
       "version_minor": 0
      },
      "text/plain": [
       "Epoch [28/60]:   0%|          | 0/50 [00:00<?, ?batch/s]"
      ]
     },
     "metadata": {},
     "output_type": "display_data"
    },
    {
     "name": "stdout",
     "output_type": "stream",
     "text": [
      "Epoch [28/60], train Loss: 0.0212, val Loss: 0.0205\n"
     ]
    },
    {
     "data": {
      "application/vnd.jupyter.widget-view+json": {
       "model_id": "b91a44236ea34faeab27c7d38f47c61c",
       "version_major": 2,
       "version_minor": 0
      },
      "text/plain": [
       "Epoch [29/60]:   0%|          | 0/500 [00:00<?, ?batch/s]"
      ]
     },
     "metadata": {},
     "output_type": "display_data"
    },
    {
     "data": {
      "application/vnd.jupyter.widget-view+json": {
       "model_id": "8302b60446d249f18da7f8d6a2cf3060",
       "version_major": 2,
       "version_minor": 0
      },
      "text/plain": [
       "Epoch [29/60]:   0%|          | 0/50 [00:00<?, ?batch/s]"
      ]
     },
     "metadata": {},
     "output_type": "display_data"
    },
    {
     "name": "stdout",
     "output_type": "stream",
     "text": [
      "Epoch [29/60], train Loss: 0.0211, val Loss: 0.0206\n"
     ]
    },
    {
     "data": {
      "application/vnd.jupyter.widget-view+json": {
       "model_id": "9b96c6e97bab47f0946e91440bf43515",
       "version_major": 2,
       "version_minor": 0
      },
      "text/plain": [
       "Epoch [30/60]:   0%|          | 0/500 [00:00<?, ?batch/s]"
      ]
     },
     "metadata": {},
     "output_type": "display_data"
    },
    {
     "data": {
      "application/vnd.jupyter.widget-view+json": {
       "model_id": "37ecd5b1f20740fe94016f8e3d63594e",
       "version_major": 2,
       "version_minor": 0
      },
      "text/plain": [
       "Epoch [30/60]:   0%|          | 0/50 [00:00<?, ?batch/s]"
      ]
     },
     "metadata": {},
     "output_type": "display_data"
    },
    {
     "name": "stdout",
     "output_type": "stream",
     "text": [
      "Epoch [30/60], train Loss: 0.0208, val Loss: 0.0205\n"
     ]
    },
    {
     "data": {
      "application/vnd.jupyter.widget-view+json": {
       "model_id": "f9ad864f6e67442f8a1a6af48ffe0113",
       "version_major": 2,
       "version_minor": 0
      },
      "text/plain": [
       "Epoch [31/60]:   0%|          | 0/500 [00:00<?, ?batch/s]"
      ]
     },
     "metadata": {},
     "output_type": "display_data"
    },
    {
     "data": {
      "application/vnd.jupyter.widget-view+json": {
       "model_id": "c5833449a61b43c195b28b741eadc362",
       "version_major": 2,
       "version_minor": 0
      },
      "text/plain": [
       "Epoch [31/60]:   0%|          | 0/50 [00:00<?, ?batch/s]"
      ]
     },
     "metadata": {},
     "output_type": "display_data"
    },
    {
     "name": "stdout",
     "output_type": "stream",
     "text": [
      "Epoch [31/60], train Loss: 0.0207, val Loss: 0.0204\n"
     ]
    },
    {
     "data": {
      "application/vnd.jupyter.widget-view+json": {
       "model_id": "d12d891e13834a31be5c683494631915",
       "version_major": 2,
       "version_minor": 0
      },
      "text/plain": [
       "Epoch [32/60]:   0%|          | 0/500 [00:00<?, ?batch/s]"
      ]
     },
     "metadata": {},
     "output_type": "display_data"
    },
    {
     "data": {
      "application/vnd.jupyter.widget-view+json": {
       "model_id": "b9e65bfd79624bf9bc085621d401b0ea",
       "version_major": 2,
       "version_minor": 0
      },
      "text/plain": [
       "Epoch [32/60]:   0%|          | 0/50 [00:00<?, ?batch/s]"
      ]
     },
     "metadata": {},
     "output_type": "display_data"
    },
    {
     "name": "stdout",
     "output_type": "stream",
     "text": [
      "Epoch [32/60], train Loss: 0.0208, val Loss: 0.0204\n"
     ]
    },
    {
     "data": {
      "application/vnd.jupyter.widget-view+json": {
       "model_id": "f2a0711d0e9449669bb5c899dcabbea3",
       "version_major": 2,
       "version_minor": 0
      },
      "text/plain": [
       "Epoch [33/60]:   0%|          | 0/500 [00:00<?, ?batch/s]"
      ]
     },
     "metadata": {},
     "output_type": "display_data"
    },
    {
     "data": {
      "application/vnd.jupyter.widget-view+json": {
       "model_id": "b33cb264ce57428e8d9bede3f7447146",
       "version_major": 2,
       "version_minor": 0
      },
      "text/plain": [
       "Epoch [33/60]:   0%|          | 0/50 [00:00<?, ?batch/s]"
      ]
     },
     "metadata": {},
     "output_type": "display_data"
    },
    {
     "name": "stdout",
     "output_type": "stream",
     "text": [
      "Epoch [33/60], train Loss: 0.0206, val Loss: 0.0206\n"
     ]
    },
    {
     "data": {
      "application/vnd.jupyter.widget-view+json": {
       "model_id": "de7bbb8f33464f08b47dcb4a77126885",
       "version_major": 2,
       "version_minor": 0
      },
      "text/plain": [
       "Epoch [34/60]:   0%|          | 0/500 [00:00<?, ?batch/s]"
      ]
     },
     "metadata": {},
     "output_type": "display_data"
    },
    {
     "data": {
      "application/vnd.jupyter.widget-view+json": {
       "model_id": "e3fe8df5ac8d40099f136432513d8bfd",
       "version_major": 2,
       "version_minor": 0
      },
      "text/plain": [
       "Epoch [34/60]:   0%|          | 0/50 [00:00<?, ?batch/s]"
      ]
     },
     "metadata": {},
     "output_type": "display_data"
    },
    {
     "name": "stdout",
     "output_type": "stream",
     "text": [
      "Epoch [34/60], train Loss: 0.0202, val Loss: 0.0202\n"
     ]
    },
    {
     "data": {
      "application/vnd.jupyter.widget-view+json": {
       "model_id": "803ba6df1ced48a092e32d839abbe7af",
       "version_major": 2,
       "version_minor": 0
      },
      "text/plain": [
       "Epoch [35/60]:   0%|          | 0/500 [00:00<?, ?batch/s]"
      ]
     },
     "metadata": {},
     "output_type": "display_data"
    },
    {
     "data": {
      "application/vnd.jupyter.widget-view+json": {
       "model_id": "9ecb053470da4ea8ac6ce79d1a2a2b72",
       "version_major": 2,
       "version_minor": 0
      },
      "text/plain": [
       "Epoch [35/60]:   0%|          | 0/50 [00:00<?, ?batch/s]"
      ]
     },
     "metadata": {},
     "output_type": "display_data"
    },
    {
     "name": "stdout",
     "output_type": "stream",
     "text": [
      "Epoch [35/60], train Loss: 0.0205, val Loss: 0.0194\n"
     ]
    },
    {
     "data": {
      "application/vnd.jupyter.widget-view+json": {
       "model_id": "ee74c9d978114af19c3b3462a0a566d8",
       "version_major": 2,
       "version_minor": 0
      },
      "text/plain": [
       "Epoch [36/60]:   0%|          | 0/500 [00:00<?, ?batch/s]"
      ]
     },
     "metadata": {},
     "output_type": "display_data"
    },
    {
     "data": {
      "application/vnd.jupyter.widget-view+json": {
       "model_id": "8720dc04e6c64684b295b720f881156a",
       "version_major": 2,
       "version_minor": 0
      },
      "text/plain": [
       "Epoch [36/60]:   0%|          | 0/50 [00:00<?, ?batch/s]"
      ]
     },
     "metadata": {},
     "output_type": "display_data"
    },
    {
     "name": "stdout",
     "output_type": "stream",
     "text": [
      "Epoch [36/60], train Loss: 0.0202, val Loss: 0.0204\n"
     ]
    },
    {
     "data": {
      "application/vnd.jupyter.widget-view+json": {
       "model_id": "8b85e8e1417943819a1bc053b0214a7b",
       "version_major": 2,
       "version_minor": 0
      },
      "text/plain": [
       "Epoch [37/60]:   0%|          | 0/500 [00:00<?, ?batch/s]"
      ]
     },
     "metadata": {},
     "output_type": "display_data"
    },
    {
     "data": {
      "application/vnd.jupyter.widget-view+json": {
       "model_id": "28c78b92fe2941358646fbe92114b7d4",
       "version_major": 2,
       "version_minor": 0
      },
      "text/plain": [
       "Epoch [37/60]:   0%|          | 0/50 [00:00<?, ?batch/s]"
      ]
     },
     "metadata": {},
     "output_type": "display_data"
    },
    {
     "name": "stdout",
     "output_type": "stream",
     "text": [
      "Epoch [37/60], train Loss: 0.0204, val Loss: 0.0201\n"
     ]
    },
    {
     "data": {
      "application/vnd.jupyter.widget-view+json": {
       "model_id": "b0b1ce0dd761461cbfabc7c3a532b084",
       "version_major": 2,
       "version_minor": 0
      },
      "text/plain": [
       "Epoch [38/60]:   0%|          | 0/500 [00:00<?, ?batch/s]"
      ]
     },
     "metadata": {},
     "output_type": "display_data"
    },
    {
     "data": {
      "application/vnd.jupyter.widget-view+json": {
       "model_id": "884379a7628a4b03921001a2a3a82caf",
       "version_major": 2,
       "version_minor": 0
      },
      "text/plain": [
       "Epoch [38/60]:   0%|          | 0/50 [00:00<?, ?batch/s]"
      ]
     },
     "metadata": {},
     "output_type": "display_data"
    },
    {
     "name": "stdout",
     "output_type": "stream",
     "text": [
      "Epoch [38/60], train Loss: 0.0202, val Loss: 0.0197\n"
     ]
    },
    {
     "data": {
      "application/vnd.jupyter.widget-view+json": {
       "model_id": "c878df9755a04456a4f0dc03b4d768d2",
       "version_major": 2,
       "version_minor": 0
      },
      "text/plain": [
       "Epoch [39/60]:   0%|          | 0/500 [00:00<?, ?batch/s]"
      ]
     },
     "metadata": {},
     "output_type": "display_data"
    },
    {
     "data": {
      "application/vnd.jupyter.widget-view+json": {
       "model_id": "b5b49fca4f1844a2be6d87a707891d6c",
       "version_major": 2,
       "version_minor": 0
      },
      "text/plain": [
       "Epoch [39/60]:   0%|          | 0/50 [00:00<?, ?batch/s]"
      ]
     },
     "metadata": {},
     "output_type": "display_data"
    },
    {
     "name": "stdout",
     "output_type": "stream",
     "text": [
      "Epoch [39/60], train Loss: 0.0200, val Loss: 0.0194\n"
     ]
    },
    {
     "data": {
      "application/vnd.jupyter.widget-view+json": {
       "model_id": "16faa7d55a384ead95422b28d82c1047",
       "version_major": 2,
       "version_minor": 0
      },
      "text/plain": [
       "Epoch [40/60]:   0%|          | 0/500 [00:00<?, ?batch/s]"
      ]
     },
     "metadata": {},
     "output_type": "display_data"
    },
    {
     "data": {
      "application/vnd.jupyter.widget-view+json": {
       "model_id": "7a68b51a93b94763ab0e4fef5fb0a8e9",
       "version_major": 2,
       "version_minor": 0
      },
      "text/plain": [
       "Epoch [40/60]:   0%|          | 0/50 [00:00<?, ?batch/s]"
      ]
     },
     "metadata": {},
     "output_type": "display_data"
    },
    {
     "name": "stdout",
     "output_type": "stream",
     "text": [
      "Epoch [40/60], train Loss: 0.0200, val Loss: 0.0194\n"
     ]
    },
    {
     "data": {
      "application/vnd.jupyter.widget-view+json": {
       "model_id": "e5984f70ceaa4e82a98abfd6040b8a48",
       "version_major": 2,
       "version_minor": 0
      },
      "text/plain": [
       "Epoch [41/60]:   0%|          | 0/500 [00:00<?, ?batch/s]"
      ]
     },
     "metadata": {},
     "output_type": "display_data"
    },
    {
     "data": {
      "application/vnd.jupyter.widget-view+json": {
       "model_id": "1b92dd1cde654063828022a77355a58a",
       "version_major": 2,
       "version_minor": 0
      },
      "text/plain": [
       "Epoch [41/60]:   0%|          | 0/50 [00:00<?, ?batch/s]"
      ]
     },
     "metadata": {},
     "output_type": "display_data"
    },
    {
     "name": "stdout",
     "output_type": "stream",
     "text": [
      "Epoch [41/60], train Loss: 0.0195, val Loss: 0.0186\n"
     ]
    },
    {
     "data": {
      "application/vnd.jupyter.widget-view+json": {
       "model_id": "14684170b2834ae98efd8a951166ead2",
       "version_major": 2,
       "version_minor": 0
      },
      "text/plain": [
       "Epoch [42/60]:   0%|          | 0/500 [00:00<?, ?batch/s]"
      ]
     },
     "metadata": {},
     "output_type": "display_data"
    },
    {
     "data": {
      "application/vnd.jupyter.widget-view+json": {
       "model_id": "b13b0fcb68754ee5b8c481c82eb294f9",
       "version_major": 2,
       "version_minor": 0
      },
      "text/plain": [
       "Epoch [42/60]:   0%|          | 0/50 [00:00<?, ?batch/s]"
      ]
     },
     "metadata": {},
     "output_type": "display_data"
    },
    {
     "name": "stdout",
     "output_type": "stream",
     "text": [
      "Epoch [42/60], train Loss: 0.0192, val Loss: 0.0198\n"
     ]
    },
    {
     "data": {
      "application/vnd.jupyter.widget-view+json": {
       "model_id": "fe25b8b77ec94477a962588151aaf846",
       "version_major": 2,
       "version_minor": 0
      },
      "text/plain": [
       "Epoch [43/60]:   0%|          | 0/500 [00:00<?, ?batch/s]"
      ]
     },
     "metadata": {},
     "output_type": "display_data"
    },
    {
     "data": {
      "application/vnd.jupyter.widget-view+json": {
       "model_id": "ecab6f9c3ae34865821d64aca102cf52",
       "version_major": 2,
       "version_minor": 0
      },
      "text/plain": [
       "Epoch [43/60]:   0%|          | 0/50 [00:00<?, ?batch/s]"
      ]
     },
     "metadata": {},
     "output_type": "display_data"
    },
    {
     "name": "stdout",
     "output_type": "stream",
     "text": [
      "Epoch [43/60], train Loss: 0.0194, val Loss: 0.0187\n"
     ]
    },
    {
     "data": {
      "application/vnd.jupyter.widget-view+json": {
       "model_id": "efbc493faa774ebaa8ad0d91b5fb4e7b",
       "version_major": 2,
       "version_minor": 0
      },
      "text/plain": [
       "Epoch [44/60]:   0%|          | 0/500 [00:00<?, ?batch/s]"
      ]
     },
     "metadata": {},
     "output_type": "display_data"
    },
    {
     "data": {
      "application/vnd.jupyter.widget-view+json": {
       "model_id": "1a0e91f8152843a5a518e9df99416632",
       "version_major": 2,
       "version_minor": 0
      },
      "text/plain": [
       "Epoch [44/60]:   0%|          | 0/50 [00:00<?, ?batch/s]"
      ]
     },
     "metadata": {},
     "output_type": "display_data"
    },
    {
     "name": "stdout",
     "output_type": "stream",
     "text": [
      "Epoch [44/60], train Loss: 0.0193, val Loss: 0.0192\n"
     ]
    },
    {
     "data": {
      "application/vnd.jupyter.widget-view+json": {
       "model_id": "f7f2a7040cfb42039a32001fb4a4ec01",
       "version_major": 2,
       "version_minor": 0
      },
      "text/plain": [
       "Epoch [45/60]:   0%|          | 0/500 [00:00<?, ?batch/s]"
      ]
     },
     "metadata": {},
     "output_type": "display_data"
    },
    {
     "data": {
      "application/vnd.jupyter.widget-view+json": {
       "model_id": "9879de71d5fd443b858de2725985af24",
       "version_major": 2,
       "version_minor": 0
      },
      "text/plain": [
       "Epoch [45/60]:   0%|          | 0/50 [00:00<?, ?batch/s]"
      ]
     },
     "metadata": {},
     "output_type": "display_data"
    },
    {
     "name": "stdout",
     "output_type": "stream",
     "text": [
      "Epoch [45/60], train Loss: 0.0189, val Loss: 0.0191\n"
     ]
    },
    {
     "data": {
      "application/vnd.jupyter.widget-view+json": {
       "model_id": "62ead9ea67774b558d6bba77c5e52ef9",
       "version_major": 2,
       "version_minor": 0
      },
      "text/plain": [
       "Epoch [46/60]:   0%|          | 0/500 [00:00<?, ?batch/s]"
      ]
     },
     "metadata": {},
     "output_type": "display_data"
    },
    {
     "data": {
      "application/vnd.jupyter.widget-view+json": {
       "model_id": "a9b0eabc7ca74608b4b9e238c4aaed20",
       "version_major": 2,
       "version_minor": 0
      },
      "text/plain": [
       "Epoch [46/60]:   0%|          | 0/50 [00:00<?, ?batch/s]"
      ]
     },
     "metadata": {},
     "output_type": "display_data"
    },
    {
     "name": "stdout",
     "output_type": "stream",
     "text": [
      "Epoch [46/60], train Loss: 0.0191, val Loss: 0.0190\n"
     ]
    },
    {
     "data": {
      "application/vnd.jupyter.widget-view+json": {
       "model_id": "77ac4325c59f4eae83a1d4d9a28287e8",
       "version_major": 2,
       "version_minor": 0
      },
      "text/plain": [
       "Epoch [47/60]:   0%|          | 0/500 [00:00<?, ?batch/s]"
      ]
     },
     "metadata": {},
     "output_type": "display_data"
    },
    {
     "data": {
      "application/vnd.jupyter.widget-view+json": {
       "model_id": "94d883a2b2a4454cb195b8fa2c0081fc",
       "version_major": 2,
       "version_minor": 0
      },
      "text/plain": [
       "Epoch [47/60]:   0%|          | 0/50 [00:00<?, ?batch/s]"
      ]
     },
     "metadata": {},
     "output_type": "display_data"
    },
    {
     "name": "stdout",
     "output_type": "stream",
     "text": [
      "Epoch [47/60], train Loss: 0.0193, val Loss: 0.0193\n"
     ]
    },
    {
     "data": {
      "application/vnd.jupyter.widget-view+json": {
       "model_id": "81ef864c81474d048c7274f8c02f0fe6",
       "version_major": 2,
       "version_minor": 0
      },
      "text/plain": [
       "Epoch [48/60]:   0%|          | 0/500 [00:00<?, ?batch/s]"
      ]
     },
     "metadata": {},
     "output_type": "display_data"
    },
    {
     "data": {
      "application/vnd.jupyter.widget-view+json": {
       "model_id": "66984bcbb7a648358e10361cafcecb1a",
       "version_major": 2,
       "version_minor": 0
      },
      "text/plain": [
       "Epoch [48/60]:   0%|          | 0/50 [00:00<?, ?batch/s]"
      ]
     },
     "metadata": {},
     "output_type": "display_data"
    },
    {
     "name": "stdout",
     "output_type": "stream",
     "text": [
      "Epoch [48/60], train Loss: 0.0191, val Loss: 0.0187\n"
     ]
    },
    {
     "data": {
      "application/vnd.jupyter.widget-view+json": {
       "model_id": "4a11dcd833f244ed94c884ec8f13ebb7",
       "version_major": 2,
       "version_minor": 0
      },
      "text/plain": [
       "Epoch [49/60]:   0%|          | 0/500 [00:00<?, ?batch/s]"
      ]
     },
     "metadata": {},
     "output_type": "display_data"
    },
    {
     "data": {
      "application/vnd.jupyter.widget-view+json": {
       "model_id": "a24a1ae7094b42479f5612f86bbf8351",
       "version_major": 2,
       "version_minor": 0
      },
      "text/plain": [
       "Epoch [49/60]:   0%|          | 0/50 [00:00<?, ?batch/s]"
      ]
     },
     "metadata": {},
     "output_type": "display_data"
    },
    {
     "name": "stdout",
     "output_type": "stream",
     "text": [
      "Epoch [49/60], train Loss: 0.0192, val Loss: 0.0188\n"
     ]
    },
    {
     "data": {
      "application/vnd.jupyter.widget-view+json": {
       "model_id": "30c2f4f0586e4d3a966f8f7a717f9015",
       "version_major": 2,
       "version_minor": 0
      },
      "text/plain": [
       "Epoch [50/60]:   0%|          | 0/500 [00:00<?, ?batch/s]"
      ]
     },
     "metadata": {},
     "output_type": "display_data"
    },
    {
     "data": {
      "application/vnd.jupyter.widget-view+json": {
       "model_id": "0cc5b03f0e15411888753069b40a30cb",
       "version_major": 2,
       "version_minor": 0
      },
      "text/plain": [
       "Epoch [50/60]:   0%|          | 0/50 [00:00<?, ?batch/s]"
      ]
     },
     "metadata": {},
     "output_type": "display_data"
    },
    {
     "name": "stdout",
     "output_type": "stream",
     "text": [
      "Epoch [50/60], train Loss: 0.0190, val Loss: 0.0188\n"
     ]
    },
    {
     "data": {
      "application/vnd.jupyter.widget-view+json": {
       "model_id": "fc357330769149c68394772ab789d65f",
       "version_major": 2,
       "version_minor": 0
      },
      "text/plain": [
       "Epoch [51/60]:   0%|          | 0/500 [00:00<?, ?batch/s]"
      ]
     },
     "metadata": {},
     "output_type": "display_data"
    },
    {
     "data": {
      "application/vnd.jupyter.widget-view+json": {
       "model_id": "41e147dee0364b5881bd2e5df5826e27",
       "version_major": 2,
       "version_minor": 0
      },
      "text/plain": [
       "Epoch [51/60]:   0%|          | 0/50 [00:00<?, ?batch/s]"
      ]
     },
     "metadata": {},
     "output_type": "display_data"
    },
    {
     "name": "stdout",
     "output_type": "stream",
     "text": [
      "Epoch [51/60], train Loss: 0.0192, val Loss: 0.0195\n"
     ]
    },
    {
     "data": {
      "application/vnd.jupyter.widget-view+json": {
       "model_id": "96be0b64176b45dfa1d032bdfc801b1e",
       "version_major": 2,
       "version_minor": 0
      },
      "text/plain": [
       "Epoch [52/60]:   0%|          | 0/500 [00:00<?, ?batch/s]"
      ]
     },
     "metadata": {},
     "output_type": "display_data"
    },
    {
     "data": {
      "application/vnd.jupyter.widget-view+json": {
       "model_id": "6f35556825f44d76a4b595e96caed94b",
       "version_major": 2,
       "version_minor": 0
      },
      "text/plain": [
       "Epoch [52/60]:   0%|          | 0/50 [00:00<?, ?batch/s]"
      ]
     },
     "metadata": {},
     "output_type": "display_data"
    },
    {
     "name": "stdout",
     "output_type": "stream",
     "text": [
      "Epoch [52/60], train Loss: 0.0191, val Loss: 0.0184\n"
     ]
    },
    {
     "data": {
      "application/vnd.jupyter.widget-view+json": {
       "model_id": "7ac9c523206641e79c2eaefe8227399d",
       "version_major": 2,
       "version_minor": 0
      },
      "text/plain": [
       "Epoch [53/60]:   0%|          | 0/500 [00:00<?, ?batch/s]"
      ]
     },
     "metadata": {},
     "output_type": "display_data"
    },
    {
     "data": {
      "application/vnd.jupyter.widget-view+json": {
       "model_id": "9b9e503028f04fa181040c60b609d320",
       "version_major": 2,
       "version_minor": 0
      },
      "text/plain": [
       "Epoch [53/60]:   0%|          | 0/50 [00:00<?, ?batch/s]"
      ]
     },
     "metadata": {},
     "output_type": "display_data"
    },
    {
     "name": "stdout",
     "output_type": "stream",
     "text": [
      "Epoch [53/60], train Loss: 0.0191, val Loss: 0.0194\n"
     ]
    },
    {
     "data": {
      "application/vnd.jupyter.widget-view+json": {
       "model_id": "91501985e47a4d63acf8a4ef47371aa9",
       "version_major": 2,
       "version_minor": 0
      },
      "text/plain": [
       "Epoch [54/60]:   0%|          | 0/500 [00:00<?, ?batch/s]"
      ]
     },
     "metadata": {},
     "output_type": "display_data"
    },
    {
     "data": {
      "application/vnd.jupyter.widget-view+json": {
       "model_id": "a1814a33aa794fa098e0e7f210ab58c5",
       "version_major": 2,
       "version_minor": 0
      },
      "text/plain": [
       "Epoch [54/60]:   0%|          | 0/50 [00:00<?, ?batch/s]"
      ]
     },
     "metadata": {},
     "output_type": "display_data"
    },
    {
     "name": "stdout",
     "output_type": "stream",
     "text": [
      "Epoch [54/60], train Loss: 0.0190, val Loss: 0.0188\n"
     ]
    },
    {
     "data": {
      "application/vnd.jupyter.widget-view+json": {
       "model_id": "4f373d5ce3814bddbd140fb22b85eab0",
       "version_major": 2,
       "version_minor": 0
      },
      "text/plain": [
       "Epoch [55/60]:   0%|          | 0/500 [00:00<?, ?batch/s]"
      ]
     },
     "metadata": {},
     "output_type": "display_data"
    },
    {
     "data": {
      "application/vnd.jupyter.widget-view+json": {
       "model_id": "37589e013f5249e1b477bc1235418dc0",
       "version_major": 2,
       "version_minor": 0
      },
      "text/plain": [
       "Epoch [55/60]:   0%|          | 0/50 [00:00<?, ?batch/s]"
      ]
     },
     "metadata": {},
     "output_type": "display_data"
    },
    {
     "name": "stdout",
     "output_type": "stream",
     "text": [
      "Epoch [55/60], train Loss: 0.0190, val Loss: 0.0189\n"
     ]
    },
    {
     "data": {
      "application/vnd.jupyter.widget-view+json": {
       "model_id": "0b6d19353f6d4aca96e8dbab08a00cbf",
       "version_major": 2,
       "version_minor": 0
      },
      "text/plain": [
       "Epoch [56/60]:   0%|          | 0/500 [00:00<?, ?batch/s]"
      ]
     },
     "metadata": {},
     "output_type": "display_data"
    },
    {
     "data": {
      "application/vnd.jupyter.widget-view+json": {
       "model_id": "61264d3b1a7f4d609c6b0e0713d558ac",
       "version_major": 2,
       "version_minor": 0
      },
      "text/plain": [
       "Epoch [56/60]:   0%|          | 0/50 [00:00<?, ?batch/s]"
      ]
     },
     "metadata": {},
     "output_type": "display_data"
    },
    {
     "name": "stdout",
     "output_type": "stream",
     "text": [
      "Epoch [56/60], train Loss: 0.0190, val Loss: 0.0184\n"
     ]
    },
    {
     "data": {
      "application/vnd.jupyter.widget-view+json": {
       "model_id": "64afacd21dd84e63adaef4e7189292fe",
       "version_major": 2,
       "version_minor": 0
      },
      "text/plain": [
       "Epoch [57/60]:   0%|          | 0/500 [00:00<?, ?batch/s]"
      ]
     },
     "metadata": {},
     "output_type": "display_data"
    },
    {
     "data": {
      "application/vnd.jupyter.widget-view+json": {
       "model_id": "17df48662e6c4fe5904fcb9e6a7d4659",
       "version_major": 2,
       "version_minor": 0
      },
      "text/plain": [
       "Epoch [57/60]:   0%|          | 0/50 [00:00<?, ?batch/s]"
      ]
     },
     "metadata": {},
     "output_type": "display_data"
    },
    {
     "name": "stdout",
     "output_type": "stream",
     "text": [
      "Epoch [57/60], train Loss: 0.0190, val Loss: 0.0192\n"
     ]
    },
    {
     "data": {
      "application/vnd.jupyter.widget-view+json": {
       "model_id": "1b52f03fd9ee449c9b579fc1d88885d0",
       "version_major": 2,
       "version_minor": 0
      },
      "text/plain": [
       "Epoch [58/60]:   0%|          | 0/500 [00:00<?, ?batch/s]"
      ]
     },
     "metadata": {},
     "output_type": "display_data"
    },
    {
     "data": {
      "application/vnd.jupyter.widget-view+json": {
       "model_id": "423edafc54b04ab09894e4f9cbab5615",
       "version_major": 2,
       "version_minor": 0
      },
      "text/plain": [
       "Epoch [58/60]:   0%|          | 0/50 [00:00<?, ?batch/s]"
      ]
     },
     "metadata": {},
     "output_type": "display_data"
    },
    {
     "name": "stdout",
     "output_type": "stream",
     "text": [
      "Epoch [58/60], train Loss: 0.0189, val Loss: 0.0189\n"
     ]
    },
    {
     "data": {
      "application/vnd.jupyter.widget-view+json": {
       "model_id": "8a05ce5cc95f42a4bc0c98c6ec7a68f4",
       "version_major": 2,
       "version_minor": 0
      },
      "text/plain": [
       "Epoch [59/60]:   0%|          | 0/500 [00:00<?, ?batch/s]"
      ]
     },
     "metadata": {},
     "output_type": "display_data"
    },
    {
     "data": {
      "application/vnd.jupyter.widget-view+json": {
       "model_id": "caf68d5f0acb465da1155974648d6577",
       "version_major": 2,
       "version_minor": 0
      },
      "text/plain": [
       "Epoch [59/60]:   0%|          | 0/50 [00:00<?, ?batch/s]"
      ]
     },
     "metadata": {},
     "output_type": "display_data"
    },
    {
     "name": "stdout",
     "output_type": "stream",
     "text": [
      "Epoch [59/60], train Loss: 0.0189, val Loss: 0.0184\n"
     ]
    },
    {
     "data": {
      "application/vnd.jupyter.widget-view+json": {
       "model_id": "88bb0c3465444b26be6c67346ac57684",
       "version_major": 2,
       "version_minor": 0
      },
      "text/plain": [
       "Epoch [60/60]:   0%|          | 0/500 [00:00<?, ?batch/s]"
      ]
     },
     "metadata": {},
     "output_type": "display_data"
    },
    {
     "data": {
      "application/vnd.jupyter.widget-view+json": {
       "model_id": "d2ffb94230134e609de3ff6981f921ea",
       "version_major": 2,
       "version_minor": 0
      },
      "text/plain": [
       "Epoch [60/60]:   0%|          | 0/50 [00:00<?, ?batch/s]"
      ]
     },
     "metadata": {},
     "output_type": "display_data"
    },
    {
     "name": "stdout",
     "output_type": "stream",
     "text": [
      "Epoch [60/60], train Loss: 0.0190, val Loss: 0.0187\n"
     ]
    }
   ],
   "source": [
    "class pars(object):\n",
    "    def __init__(self):\n",
    "        # hyperparameters: learning\n",
    "        self.batch_size = 100\n",
    "        self.learning_rate = .001\n",
    "        self.num_epochs = 60\n",
    "\n",
    "        self.optimizer = optim.AdamW\n",
    "        self.lr=0.01\n",
    "\n",
    "        self.dataset = 'mnist'\n",
    "        self.train_size = 50000\n",
    "        self.val_size = 5000\n",
    "\n",
    "        self.n_steps = 200\n",
    "        self.min_beta = 0.0001\n",
    "        self.max_beta = 0.1\n",
    "\n",
    "        self.input_dim = 28*28\n",
    "        self.device = device\n",
    "        self.model_path= ''\n",
    "        self.model_type=ScoreNet_noise\n",
    "\n",
    "\n",
    "pars1=pars()\n",
    "diffusion3,epoch_loss_list3,epoch_loss_val_list3=train(pars1)"
   ]
  },
  {
   "cell_type": "markdown",
   "id": "5e04e2f7",
   "metadata": {},
   "source": [
    "## 2.(c)"
   ]
  },
  {
   "cell_type": "code",
   "execution_count": 47,
   "id": "812d38ee",
   "metadata": {
    "execution": {
     "iopub.execute_input": "2024-05-21T16:21:54.357070Z",
     "iopub.status.busy": "2024-05-21T16:21:54.356324Z",
     "iopub.status.idle": "2024-05-21T16:21:54.367025Z",
     "shell.execute_reply": "2024-05-21T16:21:54.366075Z",
     "shell.execute_reply.started": "2024-05-21T16:21:54.357033Z"
    }
   },
   "outputs": [],
   "source": [
    "def sample(diffusion,n):\n",
    "    diffusion.model.eval()\n",
    "    with torch.no_grad():\n",
    "        \n",
    "        x = torch.randn((n, 1, 28, 28)).to(diffusion.device)\n",
    "        \n",
    "        for i in tqdm(reversed(range(1, diffusion.n_steps)), position=1,total=diffusion.n_steps):\n",
    "            t = (torch.ones(n) * i).long().to(diffusion.device)\n",
    "            predicted_noise = diffusion.predict_next(x.float(), t)\n",
    "            alpha = diffusion.alpha[t][:, None, None, None]\n",
    "            alpha_hat = diffusion.alpha_bar[t][:, None, None, None]\n",
    "            beta = diffusion.beta[t][:, None, None, None]\n",
    "            if i > 1:\n",
    "                noise = torch.randn_like(x)\n",
    "            else:\n",
    "                noise = torch.zeros_like(x)\n",
    "            x = 1 / torch.sqrt(alpha) * (x - ((1 - alpha) / (torch.sqrt(1 - alpha_hat))) * predicted_noise) + torch.sqrt(beta) * noise\n",
    "    \n",
    "    return x\n",
    "\n",
    "def resize_img(x):\n",
    "    x = (x.clamp(-1, 1) + 1) / 2\n",
    "    x = (x * 255).type(torch.uint8)\n",
    "    return x"
   ]
  },
  {
   "cell_type": "code",
   "execution_count": 48,
   "id": "42ec743e",
   "metadata": {
    "execution": {
     "iopub.execute_input": "2024-05-21T16:21:55.348610Z",
     "iopub.status.busy": "2024-05-21T16:21:55.347894Z",
     "iopub.status.idle": "2024-05-21T16:22:00.060474Z",
     "shell.execute_reply": "2024-05-21T16:22:00.059523Z",
     "shell.execute_reply.started": "2024-05-21T16:21:55.348575Z"
    }
   },
   "outputs": [
    {
     "data": {
      "application/vnd.jupyter.widget-view+json": {
       "model_id": "b7c713bad2cf472ca6be6ea4e2249852",
       "version_major": 2,
       "version_minor": 0
      },
      "text/plain": [
       "  0%|          | 0/200 [00:00<?, ?it/s]"
      ]
     },
     "metadata": {},
     "output_type": "display_data"
    },
    {
     "data": {
      "image/png": "[encoded data removed]",
      "text/plain": [
       "<Figure size 1600x1200 with 20 Axes>"
      ]
     },
     "metadata": {},
     "output_type": "display_data"
    }
   ],
   "source": [
    "sample_imgs=sample(diffusion3,1000)\n",
    "\n",
    "resize_sample_imgs=resize_img(sample_imgs)\n",
    "sample_imgs=sample_imgs.squeeze(1).cpu().numpy()\n",
    "resize_sample_imgs=resize_sample_imgs.squeeze(1).cpu().numpy()\n",
    "\n",
    "plot_imgs(resize_sample_imgs[:20])"
   ]
  },
  {
   "cell_type": "code",
   "execution_count": 50,
   "id": "79b89415",
   "metadata": {
    "execution": {
     "iopub.execute_input": "2024-05-21T16:23:19.439414Z",
     "iopub.status.busy": "2024-05-21T16:23:19.438697Z",
     "iopub.status.idle": "2024-05-21T16:23:21.273529Z",
     "shell.execute_reply": "2024-05-21T16:23:21.272294Z",
     "shell.execute_reply.started": "2024-05-21T16:23:19.439382Z"
    }
   },
   "outputs": [
    {
     "data": {
      "text/plain": [
       "5.0802822892416195"
      ]
     },
     "execution_count": 50,
     "metadata": {},
     "output_type": "execute_result"
    }
   ],
   "source": [
    "train, val, test = get_mnist(pars1.train_size, pars1.val_size)\n",
    "calculate_fid(sample_imgs.reshape(-1,784),train[0].reshape(-1,784))"
   ]
  },
  {
   "cell_type": "markdown",
   "id": "8058b715",
   "metadata": {},
   "source": [
    "## 3."
   ]
  },
  {
   "cell_type": "markdown",
   "id": "f8b66e96",
   "metadata": {},
   "source": [
    "The second model which uses the Unet framework to predict the noises performs better than the first model which use Unet to predict \n",
    "the mean value of current state.\\\n",
    "We can tell the difference whether between the FID values (Model1:8.59, Model2:5.08) or the quality of images sampled. The sampled\n",
    "images from model2 is more clear than those from the model1.\\\n",
    "\n",
    "The reasons may be that predicting noise is an easier learning task compared to directly predicting the denoised image since the noise has lower\n",
    "variance compared to mu. Besides, Errors made by the model when predicting noise are less likely to accumulate over the denoising process"
   ]
  }
 ],
 "metadata": {
  "kaggle": {
   "accelerator": "gpu",
   "dataSources": [
    {
     "datasetId": 4827614,
     "sourceId": 8160037,
     "sourceType": "datasetVersion"
    }
   ],
   "dockerImageVersionId": 30698,
   "isGpuEnabled": true,
   "isInternetEnabled": true,
   "language": "python",
   "sourceType": "notebook"
  },
  "kernelspec": {
   "display_name": "Python 3 (ipykernel)",
   "language": "python",
   "name": "python3"
  },
  "language_info": {
   "codemirror_mode": {
    "name": "ipython",
    "version": 3
   },
   "file_extension": ".py",
   "mimetype": "text/x-python",
   "name": "python",
   "nbconvert_exporter": "python",
   "pygments_lexer": "ipython3",
   "version": "3.11.4"
  }
 },
 "nbformat": 4,
 "nbformat_minor": 5
}
